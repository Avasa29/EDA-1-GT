{
  "cells": [
    {
      "cell_type": "markdown",
      "metadata": {
        "id": "view-in-github",
        "colab_type": "text"
      },
      "source": [
        "<a href=\"https://colab.research.google.com/github/Avasa29/EDA-1-GT/blob/main/Global_Terrorism_Analysis_EDA_Capstone_Project.ipynb\" target=\"_parent\"><img src=\"https://colab.research.google.com/assets/colab-badge.svg\" alt=\"Open In Colab\"/></a>"
      ]
    },
    {
      "cell_type": "markdown",
      "metadata": {
        "id": "Y06xIdG26kRF"
      },
      "source": [
        "## <b> The Global Terrorism Database (GTD) is an open-source database including information on terrorist attacks around the world from 1970 through 2017. The GTD includes systematic data on domestic as well as international terrorist incidents that have occurred during this time period and now includes more than 180,000 attacks. The database is maintained by researchers at the National Consortium for the Study of Terrorism and Responses to Terrorism (START), headquartered at the University of Maryland.</b>\n",
        "\n",
        "# <b> Explore and analyze the data to discover key findings pertaining to terrorist activities. </b>"
      ]
    },
    {
      "cell_type": "code",
      "execution_count": 3,
      "metadata": {
        "id": "dByMsuzT8Tnw"
      },
      "outputs": [],
      "source": [
        "#import libraries\n",
        "import pandas as pd\n",
        "import matplotlib.pyplot as plt\n",
        "import seaborn as sns\n",
        "import numpy as np\n",
        "from scipy.stats import norm\n",
        "from sklearn.preprocessing import StandardScaler\n",
        "from scipy import stats\n",
        "import warnings\n",
        "warnings.filterwarnings('ignore')\n",
        "%matplotlib inline"
      ]
    },
    {
      "cell_type": "code",
      "execution_count": 4,
      "metadata": {
        "colab": {
          "base_uri": "https://localhost:8080/"
        },
        "id": "Z78fWJZYq8-s",
        "outputId": "a3e614af-7e48-48ad-fd48-193b9fe221ae"
      },
      "outputs": [
        {
          "output_type": "stream",
          "name": "stdout",
          "text": [
            "Mounted at /content/drive\n"
          ]
        }
      ],
      "source": [
        "#Mounting Drive\n",
        "from google.colab import drive\n",
        "drive.mount('/content/drive')"
      ]
    },
    {
      "cell_type": "code",
      "execution_count": 5,
      "metadata": {
        "colab": {
          "base_uri": "https://localhost:8080/",
          "height": 317
        },
        "id": "-1W6ZWMSrB24",
        "outputId": "38bacfad-5111-4678-d480-ab11e9ec8b74"
      },
      "outputs": [
        {
          "output_type": "execute_result",
          "data": {
            "text/plain": [
              "        eventid  iyear  imonth  iday approxdate  extended resolution  country  \\\n",
              "0  197000000001   1970       7     2        NaN         0        NaN       58   \n",
              "1  197000000002   1970       0     0        NaN         0        NaN      130   \n",
              "2  197001000001   1970       1     0        NaN         0        NaN      160   \n",
              "3  197001000002   1970       1     0        NaN         0        NaN       78   \n",
              "4  197001000003   1970       1     0        NaN         0        NaN      101   \n",
              "\n",
              "          country_txt  region  ... addnotes scite1 scite2  scite3  dbsource  \\\n",
              "0  Dominican Republic       2  ...      NaN    NaN    NaN     NaN      PGIS   \n",
              "1              Mexico       1  ...      NaN    NaN    NaN     NaN      PGIS   \n",
              "2         Philippines       5  ...      NaN    NaN    NaN     NaN      PGIS   \n",
              "3              Greece       8  ...      NaN    NaN    NaN     NaN      PGIS   \n",
              "4               Japan       4  ...      NaN    NaN    NaN     NaN      PGIS   \n",
              "\n",
              "   INT_LOG  INT_IDEO INT_MISC INT_ANY  related  \n",
              "0        0         0        0       0      NaN  \n",
              "1        0         1        1       1      NaN  \n",
              "2       -9        -9        1       1      NaN  \n",
              "3       -9        -9        1       1      NaN  \n",
              "4       -9        -9        1       1      NaN  \n",
              "\n",
              "[5 rows x 135 columns]"
            ],
            "text/html": [
              "\n",
              "  <div id=\"df-f42742f1-d2c9-44f0-bcea-f7cf9dc47364\">\n",
              "    <div class=\"colab-df-container\">\n",
              "      <div>\n",
              "<style scoped>\n",
              "    .dataframe tbody tr th:only-of-type {\n",
              "        vertical-align: middle;\n",
              "    }\n",
              "\n",
              "    .dataframe tbody tr th {\n",
              "        vertical-align: top;\n",
              "    }\n",
              "\n",
              "    .dataframe thead th {\n",
              "        text-align: right;\n",
              "    }\n",
              "</style>\n",
              "<table border=\"1\" class=\"dataframe\">\n",
              "  <thead>\n",
              "    <tr style=\"text-align: right;\">\n",
              "      <th></th>\n",
              "      <th>eventid</th>\n",
              "      <th>iyear</th>\n",
              "      <th>imonth</th>\n",
              "      <th>iday</th>\n",
              "      <th>approxdate</th>\n",
              "      <th>extended</th>\n",
              "      <th>resolution</th>\n",
              "      <th>country</th>\n",
              "      <th>country_txt</th>\n",
              "      <th>region</th>\n",
              "      <th>...</th>\n",
              "      <th>addnotes</th>\n",
              "      <th>scite1</th>\n",
              "      <th>scite2</th>\n",
              "      <th>scite3</th>\n",
              "      <th>dbsource</th>\n",
              "      <th>INT_LOG</th>\n",
              "      <th>INT_IDEO</th>\n",
              "      <th>INT_MISC</th>\n",
              "      <th>INT_ANY</th>\n",
              "      <th>related</th>\n",
              "    </tr>\n",
              "  </thead>\n",
              "  <tbody>\n",
              "    <tr>\n",
              "      <th>0</th>\n",
              "      <td>197000000001</td>\n",
              "      <td>1970</td>\n",
              "      <td>7</td>\n",
              "      <td>2</td>\n",
              "      <td>NaN</td>\n",
              "      <td>0</td>\n",
              "      <td>NaN</td>\n",
              "      <td>58</td>\n",
              "      <td>Dominican Republic</td>\n",
              "      <td>2</td>\n",
              "      <td>...</td>\n",
              "      <td>NaN</td>\n",
              "      <td>NaN</td>\n",
              "      <td>NaN</td>\n",
              "      <td>NaN</td>\n",
              "      <td>PGIS</td>\n",
              "      <td>0</td>\n",
              "      <td>0</td>\n",
              "      <td>0</td>\n",
              "      <td>0</td>\n",
              "      <td>NaN</td>\n",
              "    </tr>\n",
              "    <tr>\n",
              "      <th>1</th>\n",
              "      <td>197000000002</td>\n",
              "      <td>1970</td>\n",
              "      <td>0</td>\n",
              "      <td>0</td>\n",
              "      <td>NaN</td>\n",
              "      <td>0</td>\n",
              "      <td>NaN</td>\n",
              "      <td>130</td>\n",
              "      <td>Mexico</td>\n",
              "      <td>1</td>\n",
              "      <td>...</td>\n",
              "      <td>NaN</td>\n",
              "      <td>NaN</td>\n",
              "      <td>NaN</td>\n",
              "      <td>NaN</td>\n",
              "      <td>PGIS</td>\n",
              "      <td>0</td>\n",
              "      <td>1</td>\n",
              "      <td>1</td>\n",
              "      <td>1</td>\n",
              "      <td>NaN</td>\n",
              "    </tr>\n",
              "    <tr>\n",
              "      <th>2</th>\n",
              "      <td>197001000001</td>\n",
              "      <td>1970</td>\n",
              "      <td>1</td>\n",
              "      <td>0</td>\n",
              "      <td>NaN</td>\n",
              "      <td>0</td>\n",
              "      <td>NaN</td>\n",
              "      <td>160</td>\n",
              "      <td>Philippines</td>\n",
              "      <td>5</td>\n",
              "      <td>...</td>\n",
              "      <td>NaN</td>\n",
              "      <td>NaN</td>\n",
              "      <td>NaN</td>\n",
              "      <td>NaN</td>\n",
              "      <td>PGIS</td>\n",
              "      <td>-9</td>\n",
              "      <td>-9</td>\n",
              "      <td>1</td>\n",
              "      <td>1</td>\n",
              "      <td>NaN</td>\n",
              "    </tr>\n",
              "    <tr>\n",
              "      <th>3</th>\n",
              "      <td>197001000002</td>\n",
              "      <td>1970</td>\n",
              "      <td>1</td>\n",
              "      <td>0</td>\n",
              "      <td>NaN</td>\n",
              "      <td>0</td>\n",
              "      <td>NaN</td>\n",
              "      <td>78</td>\n",
              "      <td>Greece</td>\n",
              "      <td>8</td>\n",
              "      <td>...</td>\n",
              "      <td>NaN</td>\n",
              "      <td>NaN</td>\n",
              "      <td>NaN</td>\n",
              "      <td>NaN</td>\n",
              "      <td>PGIS</td>\n",
              "      <td>-9</td>\n",
              "      <td>-9</td>\n",
              "      <td>1</td>\n",
              "      <td>1</td>\n",
              "      <td>NaN</td>\n",
              "    </tr>\n",
              "    <tr>\n",
              "      <th>4</th>\n",
              "      <td>197001000003</td>\n",
              "      <td>1970</td>\n",
              "      <td>1</td>\n",
              "      <td>0</td>\n",
              "      <td>NaN</td>\n",
              "      <td>0</td>\n",
              "      <td>NaN</td>\n",
              "      <td>101</td>\n",
              "      <td>Japan</td>\n",
              "      <td>4</td>\n",
              "      <td>...</td>\n",
              "      <td>NaN</td>\n",
              "      <td>NaN</td>\n",
              "      <td>NaN</td>\n",
              "      <td>NaN</td>\n",
              "      <td>PGIS</td>\n",
              "      <td>-9</td>\n",
              "      <td>-9</td>\n",
              "      <td>1</td>\n",
              "      <td>1</td>\n",
              "      <td>NaN</td>\n",
              "    </tr>\n",
              "  </tbody>\n",
              "</table>\n",
              "<p>5 rows × 135 columns</p>\n",
              "</div>\n",
              "      <button class=\"colab-df-convert\" onclick=\"convertToInteractive('df-f42742f1-d2c9-44f0-bcea-f7cf9dc47364')\"\n",
              "              title=\"Convert this dataframe to an interactive table.\"\n",
              "              style=\"display:none;\">\n",
              "        \n",
              "  <svg xmlns=\"http://www.w3.org/2000/svg\" height=\"24px\"viewBox=\"0 0 24 24\"\n",
              "       width=\"24px\">\n",
              "    <path d=\"M0 0h24v24H0V0z\" fill=\"none\"/>\n",
              "    <path d=\"M18.56 5.44l.94 2.06.94-2.06 2.06-.94-2.06-.94-.94-2.06-.94 2.06-2.06.94zm-11 1L8.5 8.5l.94-2.06 2.06-.94-2.06-.94L8.5 2.5l-.94 2.06-2.06.94zm10 10l.94 2.06.94-2.06 2.06-.94-2.06-.94-.94-2.06-.94 2.06-2.06.94z\"/><path d=\"M17.41 7.96l-1.37-1.37c-.4-.4-.92-.59-1.43-.59-.52 0-1.04.2-1.43.59L10.3 9.45l-7.72 7.72c-.78.78-.78 2.05 0 2.83L4 21.41c.39.39.9.59 1.41.59.51 0 1.02-.2 1.41-.59l7.78-7.78 2.81-2.81c.8-.78.8-2.07 0-2.86zM5.41 20L4 18.59l7.72-7.72 1.47 1.35L5.41 20z\"/>\n",
              "  </svg>\n",
              "      </button>\n",
              "      \n",
              "  <style>\n",
              "    .colab-df-container {\n",
              "      display:flex;\n",
              "      flex-wrap:wrap;\n",
              "      gap: 12px;\n",
              "    }\n",
              "\n",
              "    .colab-df-convert {\n",
              "      background-color: #E8F0FE;\n",
              "      border: none;\n",
              "      border-radius: 50%;\n",
              "      cursor: pointer;\n",
              "      display: none;\n",
              "      fill: #1967D2;\n",
              "      height: 32px;\n",
              "      padding: 0 0 0 0;\n",
              "      width: 32px;\n",
              "    }\n",
              "\n",
              "    .colab-df-convert:hover {\n",
              "      background-color: #E2EBFA;\n",
              "      box-shadow: 0px 1px 2px rgba(60, 64, 67, 0.3), 0px 1px 3px 1px rgba(60, 64, 67, 0.15);\n",
              "      fill: #174EA6;\n",
              "    }\n",
              "\n",
              "    [theme=dark] .colab-df-convert {\n",
              "      background-color: #3B4455;\n",
              "      fill: #D2E3FC;\n",
              "    }\n",
              "\n",
              "    [theme=dark] .colab-df-convert:hover {\n",
              "      background-color: #434B5C;\n",
              "      box-shadow: 0px 1px 3px 1px rgba(0, 0, 0, 0.15);\n",
              "      filter: drop-shadow(0px 1px 2px rgba(0, 0, 0, 0.3));\n",
              "      fill: #FFFFFF;\n",
              "    }\n",
              "  </style>\n",
              "\n",
              "      <script>\n",
              "        const buttonEl =\n",
              "          document.querySelector('#df-f42742f1-d2c9-44f0-bcea-f7cf9dc47364 button.colab-df-convert');\n",
              "        buttonEl.style.display =\n",
              "          google.colab.kernel.accessAllowed ? 'block' : 'none';\n",
              "\n",
              "        async function convertToInteractive(key) {\n",
              "          const element = document.querySelector('#df-f42742f1-d2c9-44f0-bcea-f7cf9dc47364');\n",
              "          const dataTable =\n",
              "            await google.colab.kernel.invokeFunction('convertToInteractive',\n",
              "                                                     [key], {});\n",
              "          if (!dataTable) return;\n",
              "\n",
              "          const docLinkHtml = 'Like what you see? Visit the ' +\n",
              "            '<a target=\"_blank\" href=https://colab.research.google.com/notebooks/data_table.ipynb>data table notebook</a>'\n",
              "            + ' to learn more about interactive tables.';\n",
              "          element.innerHTML = '';\n",
              "          dataTable['output_type'] = 'display_data';\n",
              "          await google.colab.output.renderOutput(dataTable, element);\n",
              "          const docLink = document.createElement('div');\n",
              "          docLink.innerHTML = docLinkHtml;\n",
              "          element.appendChild(docLink);\n",
              "        }\n",
              "      </script>\n",
              "    </div>\n",
              "  </div>\n",
              "  "
            ]
          },
          "metadata": {},
          "execution_count": 5
        }
      ],
      "source": [
        "#file Loading\n",
        "file_path = '/content/drive/MyDrive/My project EDA/Global Terrorism Data.csv'\n",
        "GT_df = pd.read_csv(file_path , encoding='latin-1')\n",
        "GT_df.head()\n"
      ]
    },
    {
      "cell_type": "code",
      "execution_count": 6,
      "metadata": {
        "colab": {
          "base_uri": "https://localhost:8080/"
        },
        "id": "N0ifQmkLrXEo",
        "outputId": "2c5b5cee-d21b-4c26-8d8a-c65692ed1fc8"
      },
      "outputs": [
        {
          "output_type": "execute_result",
          "data": {
            "text/plain": [
              "Index(['eventid', 'iyear', 'imonth', 'iday', 'approxdate', 'extended',\n",
              "       'resolution', 'country', 'country_txt', 'region',\n",
              "       ...\n",
              "       'addnotes', 'scite1', 'scite2', 'scite3', 'dbsource', 'INT_LOG',\n",
              "       'INT_IDEO', 'INT_MISC', 'INT_ANY', 'related'],\n",
              "      dtype='object', length=135)"
            ]
          },
          "metadata": {},
          "execution_count": 6
        }
      ],
      "source": [
        "#check file Details & data understanding\n",
        "GT_df.columns"
      ]
    },
    {
      "cell_type": "code",
      "execution_count": 7,
      "metadata": {
        "colab": {
          "base_uri": "https://localhost:8080/"
        },
        "id": "zuMGaBnGrdwb",
        "outputId": "a17bdd7a-cdf3-4c5f-854a-d192daf385f8"
      },
      "outputs": [
        {
          "output_type": "execute_result",
          "data": {
            "text/plain": [
              "(181691, 135)"
            ]
          },
          "metadata": {},
          "execution_count": 7
        }
      ],
      "source": [
        "GT_df.shape"
      ]
    },
    {
      "cell_type": "code",
      "execution_count": 8,
      "metadata": {
        "colab": {
          "base_uri": "https://localhost:8080/"
        },
        "id": "RUVf9F3prhvl",
        "outputId": "31978686-1762-48aa-fbec-7b13201e27d0"
      },
      "outputs": [
        {
          "output_type": "execute_result",
          "data": {
            "text/plain": [
              "eventid        int64\n",
              "iyear          int64\n",
              "imonth         int64\n",
              "iday           int64\n",
              "approxdate    object\n",
              "               ...  \n",
              "INT_LOG        int64\n",
              "INT_IDEO       int64\n",
              "INT_MISC       int64\n",
              "INT_ANY        int64\n",
              "related       object\n",
              "Length: 135, dtype: object"
            ]
          },
          "metadata": {},
          "execution_count": 8
        }
      ],
      "source": [
        "GT_df.dtypes\n"
      ]
    },
    {
      "cell_type": "code",
      "execution_count": 9,
      "metadata": {
        "colab": {
          "base_uri": "https://localhost:8080/",
          "height": 393
        },
        "id": "ZhhgAZbDrlYO",
        "outputId": "2446585e-c470-488c-db84-1d6c4aec66c2"
      },
      "outputs": [
        {
          "output_type": "execute_result",
          "data": {
            "text/plain": [
              "            eventid          iyear         imonth           iday  \\\n",
              "count  1.816910e+05  181691.000000  181691.000000  181691.000000   \n",
              "mean   2.002705e+11    2002.638997       6.467277      15.505644   \n",
              "std    1.325957e+09      13.259430       3.388303       8.814045   \n",
              "min    1.970000e+11    1970.000000       0.000000       0.000000   \n",
              "25%    1.991021e+11    1991.000000       4.000000       8.000000   \n",
              "50%    2.009022e+11    2009.000000       6.000000      15.000000   \n",
              "75%    2.014081e+11    2014.000000       9.000000      23.000000   \n",
              "max    2.017123e+11    2017.000000      12.000000      31.000000   \n",
              "\n",
              "            extended        country         region       latitude  \\\n",
              "count  181691.000000  181691.000000  181691.000000  177135.000000   \n",
              "mean        0.045346     131.968501       7.160938      23.498343   \n",
              "std         0.208063     112.414535       2.933408      18.569242   \n",
              "min         0.000000       4.000000       1.000000     -53.154613   \n",
              "25%         0.000000      78.000000       5.000000      11.510046   \n",
              "50%         0.000000      98.000000       6.000000      31.467463   \n",
              "75%         0.000000     160.000000      10.000000      34.685087   \n",
              "max         1.000000    1004.000000      12.000000      74.633553   \n",
              "\n",
              "          longitude    specificity  ...     ransomamt   ransomamtus  \\\n",
              "count  1.771340e+05  181685.000000  ...  1.350000e+03  5.630000e+02   \n",
              "mean  -4.586957e+02       1.451452  ...  3.172530e+06  5.784865e+05   \n",
              "std    2.047790e+05       0.995430  ...  3.021157e+07  7.077924e+06   \n",
              "min   -8.618590e+07       1.000000  ... -9.900000e+01 -9.900000e+01   \n",
              "25%    4.545640e+00       1.000000  ...  0.000000e+00  0.000000e+00   \n",
              "50%    4.324651e+01       1.000000  ...  1.500000e+04  0.000000e+00   \n",
              "75%    6.871033e+01       1.000000  ...  4.000000e+05  0.000000e+00   \n",
              "max    1.793667e+02       5.000000  ...  1.000000e+09  1.320000e+08   \n",
              "\n",
              "         ransompaid  ransompaidus  hostkidoutcome     nreleased  \\\n",
              "count  7.740000e+02    552.000000    10991.000000  10400.000000   \n",
              "mean   7.179437e+05    240.378623        4.629242    -29.018269   \n",
              "std    1.014392e+07   2940.967293        2.035360     65.720119   \n",
              "min   -9.900000e+01    -99.000000        1.000000    -99.000000   \n",
              "25%   -9.900000e+01      0.000000        2.000000    -99.000000   \n",
              "50%    0.000000e+00      0.000000        4.000000      0.000000   \n",
              "75%    1.273412e+03      0.000000        7.000000      1.000000   \n",
              "max    2.750000e+08  48000.000000        7.000000   2769.000000   \n",
              "\n",
              "             INT_LOG       INT_IDEO       INT_MISC        INT_ANY  \n",
              "count  181691.000000  181691.000000  181691.000000  181691.000000  \n",
              "mean       -4.543731      -4.464398       0.090010      -3.945952  \n",
              "std         4.543547       4.637152       0.568457       4.691325  \n",
              "min        -9.000000      -9.000000      -9.000000      -9.000000  \n",
              "25%        -9.000000      -9.000000       0.000000      -9.000000  \n",
              "50%        -9.000000      -9.000000       0.000000       0.000000  \n",
              "75%         0.000000       0.000000       0.000000       0.000000  \n",
              "max         1.000000       1.000000       1.000000       1.000000  \n",
              "\n",
              "[8 rows x 77 columns]"
            ],
            "text/html": [
              "\n",
              "  <div id=\"df-7ba34612-1e27-4db9-8ea5-a0103e31cdf1\">\n",
              "    <div class=\"colab-df-container\">\n",
              "      <div>\n",
              "<style scoped>\n",
              "    .dataframe tbody tr th:only-of-type {\n",
              "        vertical-align: middle;\n",
              "    }\n",
              "\n",
              "    .dataframe tbody tr th {\n",
              "        vertical-align: top;\n",
              "    }\n",
              "\n",
              "    .dataframe thead th {\n",
              "        text-align: right;\n",
              "    }\n",
              "</style>\n",
              "<table border=\"1\" class=\"dataframe\">\n",
              "  <thead>\n",
              "    <tr style=\"text-align: right;\">\n",
              "      <th></th>\n",
              "      <th>eventid</th>\n",
              "      <th>iyear</th>\n",
              "      <th>imonth</th>\n",
              "      <th>iday</th>\n",
              "      <th>extended</th>\n",
              "      <th>country</th>\n",
              "      <th>region</th>\n",
              "      <th>latitude</th>\n",
              "      <th>longitude</th>\n",
              "      <th>specificity</th>\n",
              "      <th>...</th>\n",
              "      <th>ransomamt</th>\n",
              "      <th>ransomamtus</th>\n",
              "      <th>ransompaid</th>\n",
              "      <th>ransompaidus</th>\n",
              "      <th>hostkidoutcome</th>\n",
              "      <th>nreleased</th>\n",
              "      <th>INT_LOG</th>\n",
              "      <th>INT_IDEO</th>\n",
              "      <th>INT_MISC</th>\n",
              "      <th>INT_ANY</th>\n",
              "    </tr>\n",
              "  </thead>\n",
              "  <tbody>\n",
              "    <tr>\n",
              "      <th>count</th>\n",
              "      <td>1.816910e+05</td>\n",
              "      <td>181691.000000</td>\n",
              "      <td>181691.000000</td>\n",
              "      <td>181691.000000</td>\n",
              "      <td>181691.000000</td>\n",
              "      <td>181691.000000</td>\n",
              "      <td>181691.000000</td>\n",
              "      <td>177135.000000</td>\n",
              "      <td>1.771340e+05</td>\n",
              "      <td>181685.000000</td>\n",
              "      <td>...</td>\n",
              "      <td>1.350000e+03</td>\n",
              "      <td>5.630000e+02</td>\n",
              "      <td>7.740000e+02</td>\n",
              "      <td>552.000000</td>\n",
              "      <td>10991.000000</td>\n",
              "      <td>10400.000000</td>\n",
              "      <td>181691.000000</td>\n",
              "      <td>181691.000000</td>\n",
              "      <td>181691.000000</td>\n",
              "      <td>181691.000000</td>\n",
              "    </tr>\n",
              "    <tr>\n",
              "      <th>mean</th>\n",
              "      <td>2.002705e+11</td>\n",
              "      <td>2002.638997</td>\n",
              "      <td>6.467277</td>\n",
              "      <td>15.505644</td>\n",
              "      <td>0.045346</td>\n",
              "      <td>131.968501</td>\n",
              "      <td>7.160938</td>\n",
              "      <td>23.498343</td>\n",
              "      <td>-4.586957e+02</td>\n",
              "      <td>1.451452</td>\n",
              "      <td>...</td>\n",
              "      <td>3.172530e+06</td>\n",
              "      <td>5.784865e+05</td>\n",
              "      <td>7.179437e+05</td>\n",
              "      <td>240.378623</td>\n",
              "      <td>4.629242</td>\n",
              "      <td>-29.018269</td>\n",
              "      <td>-4.543731</td>\n",
              "      <td>-4.464398</td>\n",
              "      <td>0.090010</td>\n",
              "      <td>-3.945952</td>\n",
              "    </tr>\n",
              "    <tr>\n",
              "      <th>std</th>\n",
              "      <td>1.325957e+09</td>\n",
              "      <td>13.259430</td>\n",
              "      <td>3.388303</td>\n",
              "      <td>8.814045</td>\n",
              "      <td>0.208063</td>\n",
              "      <td>112.414535</td>\n",
              "      <td>2.933408</td>\n",
              "      <td>18.569242</td>\n",
              "      <td>2.047790e+05</td>\n",
              "      <td>0.995430</td>\n",
              "      <td>...</td>\n",
              "      <td>3.021157e+07</td>\n",
              "      <td>7.077924e+06</td>\n",
              "      <td>1.014392e+07</td>\n",
              "      <td>2940.967293</td>\n",
              "      <td>2.035360</td>\n",
              "      <td>65.720119</td>\n",
              "      <td>4.543547</td>\n",
              "      <td>4.637152</td>\n",
              "      <td>0.568457</td>\n",
              "      <td>4.691325</td>\n",
              "    </tr>\n",
              "    <tr>\n",
              "      <th>min</th>\n",
              "      <td>1.970000e+11</td>\n",
              "      <td>1970.000000</td>\n",
              "      <td>0.000000</td>\n",
              "      <td>0.000000</td>\n",
              "      <td>0.000000</td>\n",
              "      <td>4.000000</td>\n",
              "      <td>1.000000</td>\n",
              "      <td>-53.154613</td>\n",
              "      <td>-8.618590e+07</td>\n",
              "      <td>1.000000</td>\n",
              "      <td>...</td>\n",
              "      <td>-9.900000e+01</td>\n",
              "      <td>-9.900000e+01</td>\n",
              "      <td>-9.900000e+01</td>\n",
              "      <td>-99.000000</td>\n",
              "      <td>1.000000</td>\n",
              "      <td>-99.000000</td>\n",
              "      <td>-9.000000</td>\n",
              "      <td>-9.000000</td>\n",
              "      <td>-9.000000</td>\n",
              "      <td>-9.000000</td>\n",
              "    </tr>\n",
              "    <tr>\n",
              "      <th>25%</th>\n",
              "      <td>1.991021e+11</td>\n",
              "      <td>1991.000000</td>\n",
              "      <td>4.000000</td>\n",
              "      <td>8.000000</td>\n",
              "      <td>0.000000</td>\n",
              "      <td>78.000000</td>\n",
              "      <td>5.000000</td>\n",
              "      <td>11.510046</td>\n",
              "      <td>4.545640e+00</td>\n",
              "      <td>1.000000</td>\n",
              "      <td>...</td>\n",
              "      <td>0.000000e+00</td>\n",
              "      <td>0.000000e+00</td>\n",
              "      <td>-9.900000e+01</td>\n",
              "      <td>0.000000</td>\n",
              "      <td>2.000000</td>\n",
              "      <td>-99.000000</td>\n",
              "      <td>-9.000000</td>\n",
              "      <td>-9.000000</td>\n",
              "      <td>0.000000</td>\n",
              "      <td>-9.000000</td>\n",
              "    </tr>\n",
              "    <tr>\n",
              "      <th>50%</th>\n",
              "      <td>2.009022e+11</td>\n",
              "      <td>2009.000000</td>\n",
              "      <td>6.000000</td>\n",
              "      <td>15.000000</td>\n",
              "      <td>0.000000</td>\n",
              "      <td>98.000000</td>\n",
              "      <td>6.000000</td>\n",
              "      <td>31.467463</td>\n",
              "      <td>4.324651e+01</td>\n",
              "      <td>1.000000</td>\n",
              "      <td>...</td>\n",
              "      <td>1.500000e+04</td>\n",
              "      <td>0.000000e+00</td>\n",
              "      <td>0.000000e+00</td>\n",
              "      <td>0.000000</td>\n",
              "      <td>4.000000</td>\n",
              "      <td>0.000000</td>\n",
              "      <td>-9.000000</td>\n",
              "      <td>-9.000000</td>\n",
              "      <td>0.000000</td>\n",
              "      <td>0.000000</td>\n",
              "    </tr>\n",
              "    <tr>\n",
              "      <th>75%</th>\n",
              "      <td>2.014081e+11</td>\n",
              "      <td>2014.000000</td>\n",
              "      <td>9.000000</td>\n",
              "      <td>23.000000</td>\n",
              "      <td>0.000000</td>\n",
              "      <td>160.000000</td>\n",
              "      <td>10.000000</td>\n",
              "      <td>34.685087</td>\n",
              "      <td>6.871033e+01</td>\n",
              "      <td>1.000000</td>\n",
              "      <td>...</td>\n",
              "      <td>4.000000e+05</td>\n",
              "      <td>0.000000e+00</td>\n",
              "      <td>1.273412e+03</td>\n",
              "      <td>0.000000</td>\n",
              "      <td>7.000000</td>\n",
              "      <td>1.000000</td>\n",
              "      <td>0.000000</td>\n",
              "      <td>0.000000</td>\n",
              "      <td>0.000000</td>\n",
              "      <td>0.000000</td>\n",
              "    </tr>\n",
              "    <tr>\n",
              "      <th>max</th>\n",
              "      <td>2.017123e+11</td>\n",
              "      <td>2017.000000</td>\n",
              "      <td>12.000000</td>\n",
              "      <td>31.000000</td>\n",
              "      <td>1.000000</td>\n",
              "      <td>1004.000000</td>\n",
              "      <td>12.000000</td>\n",
              "      <td>74.633553</td>\n",
              "      <td>1.793667e+02</td>\n",
              "      <td>5.000000</td>\n",
              "      <td>...</td>\n",
              "      <td>1.000000e+09</td>\n",
              "      <td>1.320000e+08</td>\n",
              "      <td>2.750000e+08</td>\n",
              "      <td>48000.000000</td>\n",
              "      <td>7.000000</td>\n",
              "      <td>2769.000000</td>\n",
              "      <td>1.000000</td>\n",
              "      <td>1.000000</td>\n",
              "      <td>1.000000</td>\n",
              "      <td>1.000000</td>\n",
              "    </tr>\n",
              "  </tbody>\n",
              "</table>\n",
              "<p>8 rows × 77 columns</p>\n",
              "</div>\n",
              "      <button class=\"colab-df-convert\" onclick=\"convertToInteractive('df-7ba34612-1e27-4db9-8ea5-a0103e31cdf1')\"\n",
              "              title=\"Convert this dataframe to an interactive table.\"\n",
              "              style=\"display:none;\">\n",
              "        \n",
              "  <svg xmlns=\"http://www.w3.org/2000/svg\" height=\"24px\"viewBox=\"0 0 24 24\"\n",
              "       width=\"24px\">\n",
              "    <path d=\"M0 0h24v24H0V0z\" fill=\"none\"/>\n",
              "    <path d=\"M18.56 5.44l.94 2.06.94-2.06 2.06-.94-2.06-.94-.94-2.06-.94 2.06-2.06.94zm-11 1L8.5 8.5l.94-2.06 2.06-.94-2.06-.94L8.5 2.5l-.94 2.06-2.06.94zm10 10l.94 2.06.94-2.06 2.06-.94-2.06-.94-.94-2.06-.94 2.06-2.06.94z\"/><path d=\"M17.41 7.96l-1.37-1.37c-.4-.4-.92-.59-1.43-.59-.52 0-1.04.2-1.43.59L10.3 9.45l-7.72 7.72c-.78.78-.78 2.05 0 2.83L4 21.41c.39.39.9.59 1.41.59.51 0 1.02-.2 1.41-.59l7.78-7.78 2.81-2.81c.8-.78.8-2.07 0-2.86zM5.41 20L4 18.59l7.72-7.72 1.47 1.35L5.41 20z\"/>\n",
              "  </svg>\n",
              "      </button>\n",
              "      \n",
              "  <style>\n",
              "    .colab-df-container {\n",
              "      display:flex;\n",
              "      flex-wrap:wrap;\n",
              "      gap: 12px;\n",
              "    }\n",
              "\n",
              "    .colab-df-convert {\n",
              "      background-color: #E8F0FE;\n",
              "      border: none;\n",
              "      border-radius: 50%;\n",
              "      cursor: pointer;\n",
              "      display: none;\n",
              "      fill: #1967D2;\n",
              "      height: 32px;\n",
              "      padding: 0 0 0 0;\n",
              "      width: 32px;\n",
              "    }\n",
              "\n",
              "    .colab-df-convert:hover {\n",
              "      background-color: #E2EBFA;\n",
              "      box-shadow: 0px 1px 2px rgba(60, 64, 67, 0.3), 0px 1px 3px 1px rgba(60, 64, 67, 0.15);\n",
              "      fill: #174EA6;\n",
              "    }\n",
              "\n",
              "    [theme=dark] .colab-df-convert {\n",
              "      background-color: #3B4455;\n",
              "      fill: #D2E3FC;\n",
              "    }\n",
              "\n",
              "    [theme=dark] .colab-df-convert:hover {\n",
              "      background-color: #434B5C;\n",
              "      box-shadow: 0px 1px 3px 1px rgba(0, 0, 0, 0.15);\n",
              "      filter: drop-shadow(0px 1px 2px rgba(0, 0, 0, 0.3));\n",
              "      fill: #FFFFFF;\n",
              "    }\n",
              "  </style>\n",
              "\n",
              "      <script>\n",
              "        const buttonEl =\n",
              "          document.querySelector('#df-7ba34612-1e27-4db9-8ea5-a0103e31cdf1 button.colab-df-convert');\n",
              "        buttonEl.style.display =\n",
              "          google.colab.kernel.accessAllowed ? 'block' : 'none';\n",
              "\n",
              "        async function convertToInteractive(key) {\n",
              "          const element = document.querySelector('#df-7ba34612-1e27-4db9-8ea5-a0103e31cdf1');\n",
              "          const dataTable =\n",
              "            await google.colab.kernel.invokeFunction('convertToInteractive',\n",
              "                                                     [key], {});\n",
              "          if (!dataTable) return;\n",
              "\n",
              "          const docLinkHtml = 'Like what you see? Visit the ' +\n",
              "            '<a target=\"_blank\" href=https://colab.research.google.com/notebooks/data_table.ipynb>data table notebook</a>'\n",
              "            + ' to learn more about interactive tables.';\n",
              "          element.innerHTML = '';\n",
              "          dataTable['output_type'] = 'display_data';\n",
              "          await google.colab.output.renderOutput(dataTable, element);\n",
              "          const docLink = document.createElement('div');\n",
              "          docLink.innerHTML = docLinkHtml;\n",
              "          element.appendChild(docLink);\n",
              "        }\n",
              "      </script>\n",
              "    </div>\n",
              "  </div>\n",
              "  "
            ]
          },
          "metadata": {},
          "execution_count": 9
        }
      ],
      "source": [
        "GT_df.describe()"
      ]
    },
    {
      "cell_type": "code",
      "execution_count": 12,
      "metadata": {
        "id": "MB2vVuCProyA"
      },
      "outputs": [],
      "source": [
        "GT_df.rename(columns={'iyear':'YEAR','imonth':'MONTH','iday':'DAY','country_txt':'Country','region_txt':'REGION','provstate':'STATE','attacktype1_txt':'Attacktype','target1':'TARGET','nkill':'KILLED','nwound':'Wound','gname':'Group','targettype1_txt':'Target','weaptype1_txt':'Weapon_Type','motive':'Motive'},inplace=True)"
      ]
    },
    {
      "cell_type": "code",
      "execution_count": 10,
      "metadata": {
        "colab": {
          "base_uri": "https://localhost:8080/"
        },
        "id": "i8bYiqVMsVOS",
        "outputId": "e644e3a4-c4a7-411d-f00d-1ab90cc6f36f"
      },
      "outputs": [
        {
          "output_type": "execute_result",
          "data": {
            "text/plain": [
              "56.481718962414206"
            ]
          },
          "metadata": {},
          "execution_count": 10
        }
      ],
      "source": [
        "#Missing Value % in GT data\n",
        "missing_values =(((GT_df.isnull().sum()).sum())/GT_df.size)*100\n",
        "missing_values"
      ]
    },
    {
      "cell_type": "markdown",
      "metadata": {
        "id": "kIIpOly_t5jl"
      },
      "source": [
        "So it is clear that there are 55% vlaues are null. So need to clean the GT data."
      ]
    },
    {
      "cell_type": "code",
      "execution_count": 13,
      "metadata": {
        "colab": {
          "base_uri": "https://localhost:8080/",
          "height": 1000
        },
        "id": "FBnmOcj4tExp",
        "outputId": "8a061288-35b7-4d63-b6c8-35115d7debf4"
      },
      "outputs": [
        {
          "output_type": "execute_result",
          "data": {
            "text/plain": [
              "          STATE  KILLED  Wound  MONTH                       REGION  \\\n",
              "0           NaN     1.0    0.0      7  Central America & Caribbean   \n",
              "1       Federal     0.0    0.0      0                North America   \n",
              "2        Tarlac     1.0    0.0      1               Southeast Asia   \n",
              "3        Attica     NaN    NaN      1               Western Europe   \n",
              "4       Fukouka     NaN    NaN      1                    East Asia   \n",
              "5      Illinois     0.0    0.0      1                North America   \n",
              "6    Montevideo     0.0    0.0      1                South America   \n",
              "7    California     0.0    0.0      1                North America   \n",
              "8     Wisconsin     0.0    0.0      1                North America   \n",
              "9     Wisconsin     0.0    0.0      1                North America   \n",
              "10    Wisconsin     0.0    0.0      1                North America   \n",
              "11     Colorado     0.0    0.0      1                North America   \n",
              "12        Lazio     0.0    0.0      1               Western Europe   \n",
              "13     Michigan     0.0    0.0      1                North America   \n",
              "14  Puerto Rico     0.0    0.0      1                North America   \n",
              "15       Berlin     NaN    NaN      1               Eastern Europe   \n",
              "16      Unknown     1.0    0.0      1           Sub-Saharan Africa   \n",
              "17     New York     0.0    0.0      1                North America   \n",
              "18  Puerto Rico     0.0    0.0      1                North America   \n",
              "19   Washington     0.0    0.0      1                North America   \n",
              "\n",
              "                                               TARGET             Country  \\\n",
              "0                                        Julio Guzman  Dominican Republic   \n",
              "1                             Nadine Chaval, daughter              Mexico   \n",
              "2                                            Employee         Philippines   \n",
              "3                                        U.S. Embassy              Greece   \n",
              "4                                      U.S. Consulate               Japan   \n",
              "5                           Cairo Police Headquarters       United States   \n",
              "6   Juan Maria de Lucah/Chief of Directorate of in...             Uruguay   \n",
              "7                                     Edes Substation       United States   \n",
              "8   R.O.T.C. offices at University of Wisconsin, M...       United States   \n",
              "9   Selective Service Headquarters in Madison Wisc...       United States   \n",
              "10                            Badger Army ammo depot.       United States   \n",
              "11           Army Recruiting Station, Denver Colorado       United States   \n",
              "12                              Flight 802 Boeing 707               Italy   \n",
              "13    Packard Properties building of Detroit Michigan       United States   \n",
              "14                                      Baker's Store       United States   \n",
              "15                 Jurists Ball (Palais au Frankturm)  East Germany (GDR)   \n",
              "16                                            Soldier            Ethiopia   \n",
              "17                          James Madison High School       United States   \n",
              "18  General Electric factory in Rio Grande Puerto ...       United States   \n",
              "19       Fuson's Department Store, Seattle Washington       United States   \n",
              "\n",
              "    DAY                      Attacktype  \\\n",
              "0     2                   Assassination   \n",
              "1     0     Hostage Taking (Kidnapping)   \n",
              "2     0                   Assassination   \n",
              "3     0               Bombing/Explosion   \n",
              "4     0  Facility/Infrastructure Attack   \n",
              "5     1                   Armed Assault   \n",
              "6     2                   Assassination   \n",
              "7     2               Bombing/Explosion   \n",
              "8     2  Facility/Infrastructure Attack   \n",
              "9     3  Facility/Infrastructure Attack   \n",
              "10    1               Bombing/Explosion   \n",
              "11    6  Facility/Infrastructure Attack   \n",
              "12    8                       Hijacking   \n",
              "13    9  Facility/Infrastructure Attack   \n",
              "14    9  Facility/Infrastructure Attack   \n",
              "15   10               Bombing/Explosion   \n",
              "16   11                         Unknown   \n",
              "17   12               Bombing/Explosion   \n",
              "18   12               Bombing/Explosion   \n",
              "19   13  Facility/Infrastructure Attack   \n",
              "\n",
              "                                               Motive  \\\n",
              "0                                                 NaN   \n",
              "1                                                 NaN   \n",
              "2                                                 NaN   \n",
              "3                                                 NaN   \n",
              "4                                                 NaN   \n",
              "5      To protest the Cairo Illinois Police Deparment   \n",
              "6                                                 NaN   \n",
              "7                                                 NaN   \n",
              "8         To protest the War in Vietnam and the draft   \n",
              "9         To protest the War in Vietnam and the draft   \n",
              "10                                                NaN   \n",
              "11                  Protest the draft and Vietnam War   \n",
              "12                                                NaN   \n",
              "13                                                NaN   \n",
              "14  To protest United States owned businesses in P...   \n",
              "15                                                NaN   \n",
              "16                                                NaN   \n",
              "17  Suspected motives were to protest the Vietnam ...   \n",
              "18                                                NaN   \n",
              "19  Retaliation for the store owner who shot and k...   \n",
              "\n",
              "                                 Group  YEAR Weapon_Type  \n",
              "0                               MANO-D  1970     Unknown  \n",
              "1   23rd of September Communist League  1970     Unknown  \n",
              "2                              Unknown  1970     Unknown  \n",
              "3                              Unknown  1970  Explosives  \n",
              "4                              Unknown  1970  Incendiary  \n",
              "5                   Black Nationalists  1970    Firearms  \n",
              "6                  Tupamaros (Uruguay)  1970    Firearms  \n",
              "7                              Unknown  1970  Explosives  \n",
              "8                      New Year's Gang  1970  Incendiary  \n",
              "9                      New Year's Gang  1970  Incendiary  \n",
              "10     Weather Underground, Weathermen  1970  Explosives  \n",
              "11                 Left-Wing Militants  1970  Incendiary  \n",
              "12                             Unknown  1970    Firearms  \n",
              "13                 Left-Wing Militants  1970  Incendiary  \n",
              "14       Armed Commandos of Liberation  1970  Incendiary  \n",
              "15                           Commune 1  1970  Explosives  \n",
              "16           Eritrean Liberation Front  1970     Unknown  \n",
              "17                  Black Nationalists  1970  Explosives  \n",
              "18                            Strikers  1970  Explosives  \n",
              "19                  Black Nationalists  1970  Incendiary  "
            ],
            "text/html": [
              "\n",
              "  <div id=\"df-e9fc88d1-b1a0-49d6-910b-2bea70ea5f8a\">\n",
              "    <div class=\"colab-df-container\">\n",
              "      <div>\n",
              "<style scoped>\n",
              "    .dataframe tbody tr th:only-of-type {\n",
              "        vertical-align: middle;\n",
              "    }\n",
              "\n",
              "    .dataframe tbody tr th {\n",
              "        vertical-align: top;\n",
              "    }\n",
              "\n",
              "    .dataframe thead th {\n",
              "        text-align: right;\n",
              "    }\n",
              "</style>\n",
              "<table border=\"1\" class=\"dataframe\">\n",
              "  <thead>\n",
              "    <tr style=\"text-align: right;\">\n",
              "      <th></th>\n",
              "      <th>STATE</th>\n",
              "      <th>KILLED</th>\n",
              "      <th>Wound</th>\n",
              "      <th>MONTH</th>\n",
              "      <th>REGION</th>\n",
              "      <th>TARGET</th>\n",
              "      <th>Country</th>\n",
              "      <th>DAY</th>\n",
              "      <th>Attacktype</th>\n",
              "      <th>Motive</th>\n",
              "      <th>Group</th>\n",
              "      <th>YEAR</th>\n",
              "      <th>Weapon_Type</th>\n",
              "    </tr>\n",
              "  </thead>\n",
              "  <tbody>\n",
              "    <tr>\n",
              "      <th>0</th>\n",
              "      <td>NaN</td>\n",
              "      <td>1.0</td>\n",
              "      <td>0.0</td>\n",
              "      <td>7</td>\n",
              "      <td>Central America &amp; Caribbean</td>\n",
              "      <td>Julio Guzman</td>\n",
              "      <td>Dominican Republic</td>\n",
              "      <td>2</td>\n",
              "      <td>Assassination</td>\n",
              "      <td>NaN</td>\n",
              "      <td>MANO-D</td>\n",
              "      <td>1970</td>\n",
              "      <td>Unknown</td>\n",
              "    </tr>\n",
              "    <tr>\n",
              "      <th>1</th>\n",
              "      <td>Federal</td>\n",
              "      <td>0.0</td>\n",
              "      <td>0.0</td>\n",
              "      <td>0</td>\n",
              "      <td>North America</td>\n",
              "      <td>Nadine Chaval, daughter</td>\n",
              "      <td>Mexico</td>\n",
              "      <td>0</td>\n",
              "      <td>Hostage Taking (Kidnapping)</td>\n",
              "      <td>NaN</td>\n",
              "      <td>23rd of September Communist League</td>\n",
              "      <td>1970</td>\n",
              "      <td>Unknown</td>\n",
              "    </tr>\n",
              "    <tr>\n",
              "      <th>2</th>\n",
              "      <td>Tarlac</td>\n",
              "      <td>1.0</td>\n",
              "      <td>0.0</td>\n",
              "      <td>1</td>\n",
              "      <td>Southeast Asia</td>\n",
              "      <td>Employee</td>\n",
              "      <td>Philippines</td>\n",
              "      <td>0</td>\n",
              "      <td>Assassination</td>\n",
              "      <td>NaN</td>\n",
              "      <td>Unknown</td>\n",
              "      <td>1970</td>\n",
              "      <td>Unknown</td>\n",
              "    </tr>\n",
              "    <tr>\n",
              "      <th>3</th>\n",
              "      <td>Attica</td>\n",
              "      <td>NaN</td>\n",
              "      <td>NaN</td>\n",
              "      <td>1</td>\n",
              "      <td>Western Europe</td>\n",
              "      <td>U.S. Embassy</td>\n",
              "      <td>Greece</td>\n",
              "      <td>0</td>\n",
              "      <td>Bombing/Explosion</td>\n",
              "      <td>NaN</td>\n",
              "      <td>Unknown</td>\n",
              "      <td>1970</td>\n",
              "      <td>Explosives</td>\n",
              "    </tr>\n",
              "    <tr>\n",
              "      <th>4</th>\n",
              "      <td>Fukouka</td>\n",
              "      <td>NaN</td>\n",
              "      <td>NaN</td>\n",
              "      <td>1</td>\n",
              "      <td>East Asia</td>\n",
              "      <td>U.S. Consulate</td>\n",
              "      <td>Japan</td>\n",
              "      <td>0</td>\n",
              "      <td>Facility/Infrastructure Attack</td>\n",
              "      <td>NaN</td>\n",
              "      <td>Unknown</td>\n",
              "      <td>1970</td>\n",
              "      <td>Incendiary</td>\n",
              "    </tr>\n",
              "    <tr>\n",
              "      <th>5</th>\n",
              "      <td>Illinois</td>\n",
              "      <td>0.0</td>\n",
              "      <td>0.0</td>\n",
              "      <td>1</td>\n",
              "      <td>North America</td>\n",
              "      <td>Cairo Police Headquarters</td>\n",
              "      <td>United States</td>\n",
              "      <td>1</td>\n",
              "      <td>Armed Assault</td>\n",
              "      <td>To protest the Cairo Illinois Police Deparment</td>\n",
              "      <td>Black Nationalists</td>\n",
              "      <td>1970</td>\n",
              "      <td>Firearms</td>\n",
              "    </tr>\n",
              "    <tr>\n",
              "      <th>6</th>\n",
              "      <td>Montevideo</td>\n",
              "      <td>0.0</td>\n",
              "      <td>0.0</td>\n",
              "      <td>1</td>\n",
              "      <td>South America</td>\n",
              "      <td>Juan Maria de Lucah/Chief of Directorate of in...</td>\n",
              "      <td>Uruguay</td>\n",
              "      <td>2</td>\n",
              "      <td>Assassination</td>\n",
              "      <td>NaN</td>\n",
              "      <td>Tupamaros (Uruguay)</td>\n",
              "      <td>1970</td>\n",
              "      <td>Firearms</td>\n",
              "    </tr>\n",
              "    <tr>\n",
              "      <th>7</th>\n",
              "      <td>California</td>\n",
              "      <td>0.0</td>\n",
              "      <td>0.0</td>\n",
              "      <td>1</td>\n",
              "      <td>North America</td>\n",
              "      <td>Edes Substation</td>\n",
              "      <td>United States</td>\n",
              "      <td>2</td>\n",
              "      <td>Bombing/Explosion</td>\n",
              "      <td>NaN</td>\n",
              "      <td>Unknown</td>\n",
              "      <td>1970</td>\n",
              "      <td>Explosives</td>\n",
              "    </tr>\n",
              "    <tr>\n",
              "      <th>8</th>\n",
              "      <td>Wisconsin</td>\n",
              "      <td>0.0</td>\n",
              "      <td>0.0</td>\n",
              "      <td>1</td>\n",
              "      <td>North America</td>\n",
              "      <td>R.O.T.C. offices at University of Wisconsin, M...</td>\n",
              "      <td>United States</td>\n",
              "      <td>2</td>\n",
              "      <td>Facility/Infrastructure Attack</td>\n",
              "      <td>To protest the War in Vietnam and the draft</td>\n",
              "      <td>New Year's Gang</td>\n",
              "      <td>1970</td>\n",
              "      <td>Incendiary</td>\n",
              "    </tr>\n",
              "    <tr>\n",
              "      <th>9</th>\n",
              "      <td>Wisconsin</td>\n",
              "      <td>0.0</td>\n",
              "      <td>0.0</td>\n",
              "      <td>1</td>\n",
              "      <td>North America</td>\n",
              "      <td>Selective Service Headquarters in Madison Wisc...</td>\n",
              "      <td>United States</td>\n",
              "      <td>3</td>\n",
              "      <td>Facility/Infrastructure Attack</td>\n",
              "      <td>To protest the War in Vietnam and the draft</td>\n",
              "      <td>New Year's Gang</td>\n",
              "      <td>1970</td>\n",
              "      <td>Incendiary</td>\n",
              "    </tr>\n",
              "    <tr>\n",
              "      <th>10</th>\n",
              "      <td>Wisconsin</td>\n",
              "      <td>0.0</td>\n",
              "      <td>0.0</td>\n",
              "      <td>1</td>\n",
              "      <td>North America</td>\n",
              "      <td>Badger Army ammo depot.</td>\n",
              "      <td>United States</td>\n",
              "      <td>1</td>\n",
              "      <td>Bombing/Explosion</td>\n",
              "      <td>NaN</td>\n",
              "      <td>Weather Underground, Weathermen</td>\n",
              "      <td>1970</td>\n",
              "      <td>Explosives</td>\n",
              "    </tr>\n",
              "    <tr>\n",
              "      <th>11</th>\n",
              "      <td>Colorado</td>\n",
              "      <td>0.0</td>\n",
              "      <td>0.0</td>\n",
              "      <td>1</td>\n",
              "      <td>North America</td>\n",
              "      <td>Army Recruiting Station, Denver Colorado</td>\n",
              "      <td>United States</td>\n",
              "      <td>6</td>\n",
              "      <td>Facility/Infrastructure Attack</td>\n",
              "      <td>Protest the draft and Vietnam War</td>\n",
              "      <td>Left-Wing Militants</td>\n",
              "      <td>1970</td>\n",
              "      <td>Incendiary</td>\n",
              "    </tr>\n",
              "    <tr>\n",
              "      <th>12</th>\n",
              "      <td>Lazio</td>\n",
              "      <td>0.0</td>\n",
              "      <td>0.0</td>\n",
              "      <td>1</td>\n",
              "      <td>Western Europe</td>\n",
              "      <td>Flight 802 Boeing 707</td>\n",
              "      <td>Italy</td>\n",
              "      <td>8</td>\n",
              "      <td>Hijacking</td>\n",
              "      <td>NaN</td>\n",
              "      <td>Unknown</td>\n",
              "      <td>1970</td>\n",
              "      <td>Firearms</td>\n",
              "    </tr>\n",
              "    <tr>\n",
              "      <th>13</th>\n",
              "      <td>Michigan</td>\n",
              "      <td>0.0</td>\n",
              "      <td>0.0</td>\n",
              "      <td>1</td>\n",
              "      <td>North America</td>\n",
              "      <td>Packard Properties building of Detroit Michigan</td>\n",
              "      <td>United States</td>\n",
              "      <td>9</td>\n",
              "      <td>Facility/Infrastructure Attack</td>\n",
              "      <td>NaN</td>\n",
              "      <td>Left-Wing Militants</td>\n",
              "      <td>1970</td>\n",
              "      <td>Incendiary</td>\n",
              "    </tr>\n",
              "    <tr>\n",
              "      <th>14</th>\n",
              "      <td>Puerto Rico</td>\n",
              "      <td>0.0</td>\n",
              "      <td>0.0</td>\n",
              "      <td>1</td>\n",
              "      <td>North America</td>\n",
              "      <td>Baker's Store</td>\n",
              "      <td>United States</td>\n",
              "      <td>9</td>\n",
              "      <td>Facility/Infrastructure Attack</td>\n",
              "      <td>To protest United States owned businesses in P...</td>\n",
              "      <td>Armed Commandos of Liberation</td>\n",
              "      <td>1970</td>\n",
              "      <td>Incendiary</td>\n",
              "    </tr>\n",
              "    <tr>\n",
              "      <th>15</th>\n",
              "      <td>Berlin</td>\n",
              "      <td>NaN</td>\n",
              "      <td>NaN</td>\n",
              "      <td>1</td>\n",
              "      <td>Eastern Europe</td>\n",
              "      <td>Jurists Ball (Palais au Frankturm)</td>\n",
              "      <td>East Germany (GDR)</td>\n",
              "      <td>10</td>\n",
              "      <td>Bombing/Explosion</td>\n",
              "      <td>NaN</td>\n",
              "      <td>Commune 1</td>\n",
              "      <td>1970</td>\n",
              "      <td>Explosives</td>\n",
              "    </tr>\n",
              "    <tr>\n",
              "      <th>16</th>\n",
              "      <td>Unknown</td>\n",
              "      <td>1.0</td>\n",
              "      <td>0.0</td>\n",
              "      <td>1</td>\n",
              "      <td>Sub-Saharan Africa</td>\n",
              "      <td>Soldier</td>\n",
              "      <td>Ethiopia</td>\n",
              "      <td>11</td>\n",
              "      <td>Unknown</td>\n",
              "      <td>NaN</td>\n",
              "      <td>Eritrean Liberation Front</td>\n",
              "      <td>1970</td>\n",
              "      <td>Unknown</td>\n",
              "    </tr>\n",
              "    <tr>\n",
              "      <th>17</th>\n",
              "      <td>New York</td>\n",
              "      <td>0.0</td>\n",
              "      <td>0.0</td>\n",
              "      <td>1</td>\n",
              "      <td>North America</td>\n",
              "      <td>James Madison High School</td>\n",
              "      <td>United States</td>\n",
              "      <td>12</td>\n",
              "      <td>Bombing/Explosion</td>\n",
              "      <td>Suspected motives were to protest the Vietnam ...</td>\n",
              "      <td>Black Nationalists</td>\n",
              "      <td>1970</td>\n",
              "      <td>Explosives</td>\n",
              "    </tr>\n",
              "    <tr>\n",
              "      <th>18</th>\n",
              "      <td>Puerto Rico</td>\n",
              "      <td>0.0</td>\n",
              "      <td>0.0</td>\n",
              "      <td>1</td>\n",
              "      <td>North America</td>\n",
              "      <td>General Electric factory in Rio Grande Puerto ...</td>\n",
              "      <td>United States</td>\n",
              "      <td>12</td>\n",
              "      <td>Bombing/Explosion</td>\n",
              "      <td>NaN</td>\n",
              "      <td>Strikers</td>\n",
              "      <td>1970</td>\n",
              "      <td>Explosives</td>\n",
              "    </tr>\n",
              "    <tr>\n",
              "      <th>19</th>\n",
              "      <td>Washington</td>\n",
              "      <td>0.0</td>\n",
              "      <td>0.0</td>\n",
              "      <td>1</td>\n",
              "      <td>North America</td>\n",
              "      <td>Fuson's Department Store, Seattle Washington</td>\n",
              "      <td>United States</td>\n",
              "      <td>13</td>\n",
              "      <td>Facility/Infrastructure Attack</td>\n",
              "      <td>Retaliation for the store owner who shot and k...</td>\n",
              "      <td>Black Nationalists</td>\n",
              "      <td>1970</td>\n",
              "      <td>Incendiary</td>\n",
              "    </tr>\n",
              "  </tbody>\n",
              "</table>\n",
              "</div>\n",
              "      <button class=\"colab-df-convert\" onclick=\"convertToInteractive('df-e9fc88d1-b1a0-49d6-910b-2bea70ea5f8a')\"\n",
              "              title=\"Convert this dataframe to an interactive table.\"\n",
              "              style=\"display:none;\">\n",
              "        \n",
              "  <svg xmlns=\"http://www.w3.org/2000/svg\" height=\"24px\"viewBox=\"0 0 24 24\"\n",
              "       width=\"24px\">\n",
              "    <path d=\"M0 0h24v24H0V0z\" fill=\"none\"/>\n",
              "    <path d=\"M18.56 5.44l.94 2.06.94-2.06 2.06-.94-2.06-.94-.94-2.06-.94 2.06-2.06.94zm-11 1L8.5 8.5l.94-2.06 2.06-.94-2.06-.94L8.5 2.5l-.94 2.06-2.06.94zm10 10l.94 2.06.94-2.06 2.06-.94-2.06-.94-.94-2.06-.94 2.06-2.06.94z\"/><path d=\"M17.41 7.96l-1.37-1.37c-.4-.4-.92-.59-1.43-.59-.52 0-1.04.2-1.43.59L10.3 9.45l-7.72 7.72c-.78.78-.78 2.05 0 2.83L4 21.41c.39.39.9.59 1.41.59.51 0 1.02-.2 1.41-.59l7.78-7.78 2.81-2.81c.8-.78.8-2.07 0-2.86zM5.41 20L4 18.59l7.72-7.72 1.47 1.35L5.41 20z\"/>\n",
              "  </svg>\n",
              "      </button>\n",
              "      \n",
              "  <style>\n",
              "    .colab-df-container {\n",
              "      display:flex;\n",
              "      flex-wrap:wrap;\n",
              "      gap: 12px;\n",
              "    }\n",
              "\n",
              "    .colab-df-convert {\n",
              "      background-color: #E8F0FE;\n",
              "      border: none;\n",
              "      border-radius: 50%;\n",
              "      cursor: pointer;\n",
              "      display: none;\n",
              "      fill: #1967D2;\n",
              "      height: 32px;\n",
              "      padding: 0 0 0 0;\n",
              "      width: 32px;\n",
              "    }\n",
              "\n",
              "    .colab-df-convert:hover {\n",
              "      background-color: #E2EBFA;\n",
              "      box-shadow: 0px 1px 2px rgba(60, 64, 67, 0.3), 0px 1px 3px 1px rgba(60, 64, 67, 0.15);\n",
              "      fill: #174EA6;\n",
              "    }\n",
              "\n",
              "    [theme=dark] .colab-df-convert {\n",
              "      background-color: #3B4455;\n",
              "      fill: #D2E3FC;\n",
              "    }\n",
              "\n",
              "    [theme=dark] .colab-df-convert:hover {\n",
              "      background-color: #434B5C;\n",
              "      box-shadow: 0px 1px 3px 1px rgba(0, 0, 0, 0.15);\n",
              "      filter: drop-shadow(0px 1px 2px rgba(0, 0, 0, 0.3));\n",
              "      fill: #FFFFFF;\n",
              "    }\n",
              "  </style>\n",
              "\n",
              "      <script>\n",
              "        const buttonEl =\n",
              "          document.querySelector('#df-e9fc88d1-b1a0-49d6-910b-2bea70ea5f8a button.colab-df-convert');\n",
              "        buttonEl.style.display =\n",
              "          google.colab.kernel.accessAllowed ? 'block' : 'none';\n",
              "\n",
              "        async function convertToInteractive(key) {\n",
              "          const element = document.querySelector('#df-e9fc88d1-b1a0-49d6-910b-2bea70ea5f8a');\n",
              "          const dataTable =\n",
              "            await google.colab.kernel.invokeFunction('convertToInteractive',\n",
              "                                                     [key], {});\n",
              "          if (!dataTable) return;\n",
              "\n",
              "          const docLinkHtml = 'Like what you see? Visit the ' +\n",
              "            '<a target=\"_blank\" href=https://colab.research.google.com/notebooks/data_table.ipynb>data table notebook</a>'\n",
              "            + ' to learn more about interactive tables.';\n",
              "          element.innerHTML = '';\n",
              "          dataTable['output_type'] = 'display_data';\n",
              "          await google.colab.output.renderOutput(dataTable, element);\n",
              "          const docLink = document.createElement('div');\n",
              "          docLink.innerHTML = docLinkHtml;\n",
              "          element.appendChild(docLink);\n",
              "        }\n",
              "      </script>\n",
              "    </div>\n",
              "  </div>\n",
              "  "
            ]
          },
          "metadata": {},
          "execution_count": 13
        }
      ],
      "source": [
        "#GT dataframe with usefull data.\n",
        "GT_df = GT_df[{'YEAR','MONTH','DAY','Country','REGION','STATE','Attacktype','TARGET','KILLED','Wound','Group','Weapon_Type','TARGET','Motive'}]\n",
        "GT_df.head(20)"
      ]
    },
    {
      "cell_type": "code",
      "execution_count": 14,
      "metadata": {
        "colab": {
          "base_uri": "https://localhost:8080/"
        },
        "id": "6ndDUZ8lwzPk",
        "outputId": "a07309e9-1206-4661-f236-3c82056b75a4"
      },
      "outputs": [
        {
          "output_type": "stream",
          "name": "stdout",
          "text": [
            "STATE 2855\n",
            "KILLED 205\n",
            "Wound 238\n",
            "MONTH 13\n",
            "REGION 12\n",
            "TARGET 86006\n",
            "Country 205\n",
            "DAY 32\n",
            "Attacktype 9\n",
            "Motive 14490\n",
            "Group 3537\n",
            "YEAR 47\n",
            "Weapon_Type 12\n"
          ]
        }
      ],
      "source": [
        "for i in GT_df.columns:\n",
        "  print(i,GT_df[i].nunique())"
      ]
    },
    {
      "cell_type": "code",
      "execution_count": 15,
      "metadata": {
        "colab": {
          "base_uri": "https://localhost:8080/"
        },
        "id": "dIK9FYT9IWQu",
        "outputId": "4d9faec8-5243-4ef1-d74b-2387074704a4"
      },
      "outputs": [
        {
          "output_type": "stream",
          "name": "stdout",
          "text": [
            "<class 'pandas.core.frame.DataFrame'>\n",
            "RangeIndex: 181691 entries, 0 to 181690\n",
            "Data columns (total 13 columns):\n",
            " #   Column       Non-Null Count   Dtype  \n",
            "---  ------       --------------   -----  \n",
            " 0   STATE        181270 non-null  object \n",
            " 1   KILLED       171378 non-null  float64\n",
            " 2   Wound        165380 non-null  float64\n",
            " 3   MONTH        181691 non-null  int64  \n",
            " 4   REGION       181691 non-null  object \n",
            " 5   TARGET       181055 non-null  object \n",
            " 6   Country      181691 non-null  object \n",
            " 7   DAY          181691 non-null  int64  \n",
            " 8   Attacktype   181691 non-null  object \n",
            " 9   Motive       50561 non-null   object \n",
            " 10  Group        181691 non-null  object \n",
            " 11  YEAR         181691 non-null  int64  \n",
            " 12  Weapon_Type  181691 non-null  object \n",
            "dtypes: float64(2), int64(3), object(8)\n",
            "memory usage: 18.0+ MB\n"
          ]
        }
      ],
      "source": [
        "GT_df.info()"
      ]
    },
    {
      "cell_type": "markdown",
      "metadata": {
        "id": "oAozwTda4NIe"
      },
      "source": [
        "Here Killed & Wound have lots of Null Values.Need to fill them."
      ]
    },
    {
      "cell_type": "code",
      "execution_count": 16,
      "metadata": {
        "id": "rszUMgCn12MC"
      },
      "outputs": [],
      "source": [
        "GT_df['Wound'] = GT_df['Wound'].fillna(0).astype(int)\n",
        "GT_df['KILLED'] = GT_df['KILLED'].fillna(0).astype(int)"
      ]
    },
    {
      "cell_type": "code",
      "execution_count": 17,
      "metadata": {
        "colab": {
          "base_uri": "https://localhost:8080/"
        },
        "id": "7fV6VwOD3Wip",
        "outputId": "ba072332-883f-4958-999b-75c72b9391be"
      },
      "outputs": [
        {
          "output_type": "stream",
          "name": "stdout",
          "text": [
            "<class 'pandas.core.frame.DataFrame'>\n",
            "RangeIndex: 181691 entries, 0 to 181690\n",
            "Data columns (total 13 columns):\n",
            " #   Column       Non-Null Count   Dtype \n",
            "---  ------       --------------   ----- \n",
            " 0   STATE        181270 non-null  object\n",
            " 1   KILLED       181691 non-null  int64 \n",
            " 2   Wound        181691 non-null  int64 \n",
            " 3   MONTH        181691 non-null  int64 \n",
            " 4   REGION       181691 non-null  object\n",
            " 5   TARGET       181055 non-null  object\n",
            " 6   Country      181691 non-null  object\n",
            " 7   DAY          181691 non-null  int64 \n",
            " 8   Attacktype   181691 non-null  object\n",
            " 9   Motive       50561 non-null   object\n",
            " 10  Group        181691 non-null  object\n",
            " 11  YEAR         181691 non-null  int64 \n",
            " 12  Weapon_Type  181691 non-null  object\n",
            "dtypes: int64(5), object(8)\n",
            "memory usage: 18.0+ MB\n"
          ]
        }
      ],
      "source": [
        "GT_df.info()\n"
      ]
    },
    {
      "cell_type": "markdown",
      "metadata": {
        "id": "GDacqyCM4mS8"
      },
      "source": [
        "Usefull Data\n"
      ]
    },
    {
      "cell_type": "code",
      "execution_count": 19,
      "metadata": {
        "colab": {
          "base_uri": "https://localhost:8080/",
          "height": 1000
        },
        "id": "3hf68wcR39MB",
        "outputId": "d15cee28-bd56-478a-9776-2beec0060df2"
      },
      "outputs": [
        {
          "output_type": "execute_result",
          "data": {
            "text/plain": [
              "          STATE  KILLED  Wound  MONTH                       REGION  \\\n",
              "0           NaN       1      0      7  Central America & Caribbean   \n",
              "1       Federal       0      0      0                North America   \n",
              "2        Tarlac       1      0      1               Southeast Asia   \n",
              "3        Attica       0      0      1               Western Europe   \n",
              "4       Fukouka       0      0      1                    East Asia   \n",
              "5      Illinois       0      0      1                North America   \n",
              "6    Montevideo       0      0      1                South America   \n",
              "7    California       0      0      1                North America   \n",
              "8     Wisconsin       0      0      1                North America   \n",
              "9     Wisconsin       0      0      1                North America   \n",
              "10    Wisconsin       0      0      1                North America   \n",
              "11     Colorado       0      0      1                North America   \n",
              "12        Lazio       0      0      1               Western Europe   \n",
              "13     Michigan       0      0      1                North America   \n",
              "14  Puerto Rico       0      0      1                North America   \n",
              "15       Berlin       0      0      1               Eastern Europe   \n",
              "16      Unknown       1      0      1           Sub-Saharan Africa   \n",
              "17     New York       0      0      1                North America   \n",
              "18  Puerto Rico       0      0      1                North America   \n",
              "19   Washington       0      0      1                North America   \n",
              "\n",
              "                                               TARGET             Country  \\\n",
              "0                                        Julio Guzman  Dominican Republic   \n",
              "1                             Nadine Chaval, daughter              Mexico   \n",
              "2                                            Employee         Philippines   \n",
              "3                                        U.S. Embassy              Greece   \n",
              "4                                      U.S. Consulate               Japan   \n",
              "5                           Cairo Police Headquarters       United States   \n",
              "6   Juan Maria de Lucah/Chief of Directorate of in...             Uruguay   \n",
              "7                                     Edes Substation       United States   \n",
              "8   R.O.T.C. offices at University of Wisconsin, M...       United States   \n",
              "9   Selective Service Headquarters in Madison Wisc...       United States   \n",
              "10                            Badger Army ammo depot.       United States   \n",
              "11           Army Recruiting Station, Denver Colorado       United States   \n",
              "12                              Flight 802 Boeing 707               Italy   \n",
              "13    Packard Properties building of Detroit Michigan       United States   \n",
              "14                                      Baker's Store       United States   \n",
              "15                 Jurists Ball (Palais au Frankturm)  East Germany (GDR)   \n",
              "16                                            Soldier            Ethiopia   \n",
              "17                          James Madison High School       United States   \n",
              "18  General Electric factory in Rio Grande Puerto ...       United States   \n",
              "19       Fuson's Department Store, Seattle Washington       United States   \n",
              "\n",
              "    DAY                      Attacktype  \\\n",
              "0     2                   Assassination   \n",
              "1     0     Hostage Taking (Kidnapping)   \n",
              "2     0                   Assassination   \n",
              "3     0               Bombing/Explosion   \n",
              "4     0  Facility/Infrastructure Attack   \n",
              "5     1                   Armed Assault   \n",
              "6     2                   Assassination   \n",
              "7     2               Bombing/Explosion   \n",
              "8     2  Facility/Infrastructure Attack   \n",
              "9     3  Facility/Infrastructure Attack   \n",
              "10    1               Bombing/Explosion   \n",
              "11    6  Facility/Infrastructure Attack   \n",
              "12    8                       Hijacking   \n",
              "13    9  Facility/Infrastructure Attack   \n",
              "14    9  Facility/Infrastructure Attack   \n",
              "15   10               Bombing/Explosion   \n",
              "16   11                         Unknown   \n",
              "17   12               Bombing/Explosion   \n",
              "18   12               Bombing/Explosion   \n",
              "19   13  Facility/Infrastructure Attack   \n",
              "\n",
              "                                               Motive  \\\n",
              "0                                                 NaN   \n",
              "1                                                 NaN   \n",
              "2                                                 NaN   \n",
              "3                                                 NaN   \n",
              "4                                                 NaN   \n",
              "5      To protest the Cairo Illinois Police Deparment   \n",
              "6                                                 NaN   \n",
              "7                                                 NaN   \n",
              "8         To protest the War in Vietnam and the draft   \n",
              "9         To protest the War in Vietnam and the draft   \n",
              "10                                                NaN   \n",
              "11                  Protest the draft and Vietnam War   \n",
              "12                                                NaN   \n",
              "13                                                NaN   \n",
              "14  To protest United States owned businesses in P...   \n",
              "15                                                NaN   \n",
              "16                                                NaN   \n",
              "17  Suspected motives were to protest the Vietnam ...   \n",
              "18                                                NaN   \n",
              "19  Retaliation for the store owner who shot and k...   \n",
              "\n",
              "                                 Group  YEAR Weapon_Type  \n",
              "0                               MANO-D  1970     Unknown  \n",
              "1   23rd of September Communist League  1970     Unknown  \n",
              "2                              Unknown  1970     Unknown  \n",
              "3                              Unknown  1970  Explosives  \n",
              "4                              Unknown  1970  Incendiary  \n",
              "5                   Black Nationalists  1970    Firearms  \n",
              "6                  Tupamaros (Uruguay)  1970    Firearms  \n",
              "7                              Unknown  1970  Explosives  \n",
              "8                      New Year's Gang  1970  Incendiary  \n",
              "9                      New Year's Gang  1970  Incendiary  \n",
              "10     Weather Underground, Weathermen  1970  Explosives  \n",
              "11                 Left-Wing Militants  1970  Incendiary  \n",
              "12                             Unknown  1970    Firearms  \n",
              "13                 Left-Wing Militants  1970  Incendiary  \n",
              "14       Armed Commandos of Liberation  1970  Incendiary  \n",
              "15                           Commune 1  1970  Explosives  \n",
              "16           Eritrean Liberation Front  1970     Unknown  \n",
              "17                  Black Nationalists  1970  Explosives  \n",
              "18                            Strikers  1970  Explosives  \n",
              "19                  Black Nationalists  1970  Incendiary  "
            ],
            "text/html": [
              "\n",
              "  <div id=\"df-2170c973-0b1f-4caa-8d9f-0f612fcce06b\">\n",
              "    <div class=\"colab-df-container\">\n",
              "      <div>\n",
              "<style scoped>\n",
              "    .dataframe tbody tr th:only-of-type {\n",
              "        vertical-align: middle;\n",
              "    }\n",
              "\n",
              "    .dataframe tbody tr th {\n",
              "        vertical-align: top;\n",
              "    }\n",
              "\n",
              "    .dataframe thead th {\n",
              "        text-align: right;\n",
              "    }\n",
              "</style>\n",
              "<table border=\"1\" class=\"dataframe\">\n",
              "  <thead>\n",
              "    <tr style=\"text-align: right;\">\n",
              "      <th></th>\n",
              "      <th>STATE</th>\n",
              "      <th>KILLED</th>\n",
              "      <th>Wound</th>\n",
              "      <th>MONTH</th>\n",
              "      <th>REGION</th>\n",
              "      <th>TARGET</th>\n",
              "      <th>Country</th>\n",
              "      <th>DAY</th>\n",
              "      <th>Attacktype</th>\n",
              "      <th>Motive</th>\n",
              "      <th>Group</th>\n",
              "      <th>YEAR</th>\n",
              "      <th>Weapon_Type</th>\n",
              "    </tr>\n",
              "  </thead>\n",
              "  <tbody>\n",
              "    <tr>\n",
              "      <th>0</th>\n",
              "      <td>NaN</td>\n",
              "      <td>1</td>\n",
              "      <td>0</td>\n",
              "      <td>7</td>\n",
              "      <td>Central America &amp; Caribbean</td>\n",
              "      <td>Julio Guzman</td>\n",
              "      <td>Dominican Republic</td>\n",
              "      <td>2</td>\n",
              "      <td>Assassination</td>\n",
              "      <td>NaN</td>\n",
              "      <td>MANO-D</td>\n",
              "      <td>1970</td>\n",
              "      <td>Unknown</td>\n",
              "    </tr>\n",
              "    <tr>\n",
              "      <th>1</th>\n",
              "      <td>Federal</td>\n",
              "      <td>0</td>\n",
              "      <td>0</td>\n",
              "      <td>0</td>\n",
              "      <td>North America</td>\n",
              "      <td>Nadine Chaval, daughter</td>\n",
              "      <td>Mexico</td>\n",
              "      <td>0</td>\n",
              "      <td>Hostage Taking (Kidnapping)</td>\n",
              "      <td>NaN</td>\n",
              "      <td>23rd of September Communist League</td>\n",
              "      <td>1970</td>\n",
              "      <td>Unknown</td>\n",
              "    </tr>\n",
              "    <tr>\n",
              "      <th>2</th>\n",
              "      <td>Tarlac</td>\n",
              "      <td>1</td>\n",
              "      <td>0</td>\n",
              "      <td>1</td>\n",
              "      <td>Southeast Asia</td>\n",
              "      <td>Employee</td>\n",
              "      <td>Philippines</td>\n",
              "      <td>0</td>\n",
              "      <td>Assassination</td>\n",
              "      <td>NaN</td>\n",
              "      <td>Unknown</td>\n",
              "      <td>1970</td>\n",
              "      <td>Unknown</td>\n",
              "    </tr>\n",
              "    <tr>\n",
              "      <th>3</th>\n",
              "      <td>Attica</td>\n",
              "      <td>0</td>\n",
              "      <td>0</td>\n",
              "      <td>1</td>\n",
              "      <td>Western Europe</td>\n",
              "      <td>U.S. Embassy</td>\n",
              "      <td>Greece</td>\n",
              "      <td>0</td>\n",
              "      <td>Bombing/Explosion</td>\n",
              "      <td>NaN</td>\n",
              "      <td>Unknown</td>\n",
              "      <td>1970</td>\n",
              "      <td>Explosives</td>\n",
              "    </tr>\n",
              "    <tr>\n",
              "      <th>4</th>\n",
              "      <td>Fukouka</td>\n",
              "      <td>0</td>\n",
              "      <td>0</td>\n",
              "      <td>1</td>\n",
              "      <td>East Asia</td>\n",
              "      <td>U.S. Consulate</td>\n",
              "      <td>Japan</td>\n",
              "      <td>0</td>\n",
              "      <td>Facility/Infrastructure Attack</td>\n",
              "      <td>NaN</td>\n",
              "      <td>Unknown</td>\n",
              "      <td>1970</td>\n",
              "      <td>Incendiary</td>\n",
              "    </tr>\n",
              "    <tr>\n",
              "      <th>5</th>\n",
              "      <td>Illinois</td>\n",
              "      <td>0</td>\n",
              "      <td>0</td>\n",
              "      <td>1</td>\n",
              "      <td>North America</td>\n",
              "      <td>Cairo Police Headquarters</td>\n",
              "      <td>United States</td>\n",
              "      <td>1</td>\n",
              "      <td>Armed Assault</td>\n",
              "      <td>To protest the Cairo Illinois Police Deparment</td>\n",
              "      <td>Black Nationalists</td>\n",
              "      <td>1970</td>\n",
              "      <td>Firearms</td>\n",
              "    </tr>\n",
              "    <tr>\n",
              "      <th>6</th>\n",
              "      <td>Montevideo</td>\n",
              "      <td>0</td>\n",
              "      <td>0</td>\n",
              "      <td>1</td>\n",
              "      <td>South America</td>\n",
              "      <td>Juan Maria de Lucah/Chief of Directorate of in...</td>\n",
              "      <td>Uruguay</td>\n",
              "      <td>2</td>\n",
              "      <td>Assassination</td>\n",
              "      <td>NaN</td>\n",
              "      <td>Tupamaros (Uruguay)</td>\n",
              "      <td>1970</td>\n",
              "      <td>Firearms</td>\n",
              "    </tr>\n",
              "    <tr>\n",
              "      <th>7</th>\n",
              "      <td>California</td>\n",
              "      <td>0</td>\n",
              "      <td>0</td>\n",
              "      <td>1</td>\n",
              "      <td>North America</td>\n",
              "      <td>Edes Substation</td>\n",
              "      <td>United States</td>\n",
              "      <td>2</td>\n",
              "      <td>Bombing/Explosion</td>\n",
              "      <td>NaN</td>\n",
              "      <td>Unknown</td>\n",
              "      <td>1970</td>\n",
              "      <td>Explosives</td>\n",
              "    </tr>\n",
              "    <tr>\n",
              "      <th>8</th>\n",
              "      <td>Wisconsin</td>\n",
              "      <td>0</td>\n",
              "      <td>0</td>\n",
              "      <td>1</td>\n",
              "      <td>North America</td>\n",
              "      <td>R.O.T.C. offices at University of Wisconsin, M...</td>\n",
              "      <td>United States</td>\n",
              "      <td>2</td>\n",
              "      <td>Facility/Infrastructure Attack</td>\n",
              "      <td>To protest the War in Vietnam and the draft</td>\n",
              "      <td>New Year's Gang</td>\n",
              "      <td>1970</td>\n",
              "      <td>Incendiary</td>\n",
              "    </tr>\n",
              "    <tr>\n",
              "      <th>9</th>\n",
              "      <td>Wisconsin</td>\n",
              "      <td>0</td>\n",
              "      <td>0</td>\n",
              "      <td>1</td>\n",
              "      <td>North America</td>\n",
              "      <td>Selective Service Headquarters in Madison Wisc...</td>\n",
              "      <td>United States</td>\n",
              "      <td>3</td>\n",
              "      <td>Facility/Infrastructure Attack</td>\n",
              "      <td>To protest the War in Vietnam and the draft</td>\n",
              "      <td>New Year's Gang</td>\n",
              "      <td>1970</td>\n",
              "      <td>Incendiary</td>\n",
              "    </tr>\n",
              "    <tr>\n",
              "      <th>10</th>\n",
              "      <td>Wisconsin</td>\n",
              "      <td>0</td>\n",
              "      <td>0</td>\n",
              "      <td>1</td>\n",
              "      <td>North America</td>\n",
              "      <td>Badger Army ammo depot.</td>\n",
              "      <td>United States</td>\n",
              "      <td>1</td>\n",
              "      <td>Bombing/Explosion</td>\n",
              "      <td>NaN</td>\n",
              "      <td>Weather Underground, Weathermen</td>\n",
              "      <td>1970</td>\n",
              "      <td>Explosives</td>\n",
              "    </tr>\n",
              "    <tr>\n",
              "      <th>11</th>\n",
              "      <td>Colorado</td>\n",
              "      <td>0</td>\n",
              "      <td>0</td>\n",
              "      <td>1</td>\n",
              "      <td>North America</td>\n",
              "      <td>Army Recruiting Station, Denver Colorado</td>\n",
              "      <td>United States</td>\n",
              "      <td>6</td>\n",
              "      <td>Facility/Infrastructure Attack</td>\n",
              "      <td>Protest the draft and Vietnam War</td>\n",
              "      <td>Left-Wing Militants</td>\n",
              "      <td>1970</td>\n",
              "      <td>Incendiary</td>\n",
              "    </tr>\n",
              "    <tr>\n",
              "      <th>12</th>\n",
              "      <td>Lazio</td>\n",
              "      <td>0</td>\n",
              "      <td>0</td>\n",
              "      <td>1</td>\n",
              "      <td>Western Europe</td>\n",
              "      <td>Flight 802 Boeing 707</td>\n",
              "      <td>Italy</td>\n",
              "      <td>8</td>\n",
              "      <td>Hijacking</td>\n",
              "      <td>NaN</td>\n",
              "      <td>Unknown</td>\n",
              "      <td>1970</td>\n",
              "      <td>Firearms</td>\n",
              "    </tr>\n",
              "    <tr>\n",
              "      <th>13</th>\n",
              "      <td>Michigan</td>\n",
              "      <td>0</td>\n",
              "      <td>0</td>\n",
              "      <td>1</td>\n",
              "      <td>North America</td>\n",
              "      <td>Packard Properties building of Detroit Michigan</td>\n",
              "      <td>United States</td>\n",
              "      <td>9</td>\n",
              "      <td>Facility/Infrastructure Attack</td>\n",
              "      <td>NaN</td>\n",
              "      <td>Left-Wing Militants</td>\n",
              "      <td>1970</td>\n",
              "      <td>Incendiary</td>\n",
              "    </tr>\n",
              "    <tr>\n",
              "      <th>14</th>\n",
              "      <td>Puerto Rico</td>\n",
              "      <td>0</td>\n",
              "      <td>0</td>\n",
              "      <td>1</td>\n",
              "      <td>North America</td>\n",
              "      <td>Baker's Store</td>\n",
              "      <td>United States</td>\n",
              "      <td>9</td>\n",
              "      <td>Facility/Infrastructure Attack</td>\n",
              "      <td>To protest United States owned businesses in P...</td>\n",
              "      <td>Armed Commandos of Liberation</td>\n",
              "      <td>1970</td>\n",
              "      <td>Incendiary</td>\n",
              "    </tr>\n",
              "    <tr>\n",
              "      <th>15</th>\n",
              "      <td>Berlin</td>\n",
              "      <td>0</td>\n",
              "      <td>0</td>\n",
              "      <td>1</td>\n",
              "      <td>Eastern Europe</td>\n",
              "      <td>Jurists Ball (Palais au Frankturm)</td>\n",
              "      <td>East Germany (GDR)</td>\n",
              "      <td>10</td>\n",
              "      <td>Bombing/Explosion</td>\n",
              "      <td>NaN</td>\n",
              "      <td>Commune 1</td>\n",
              "      <td>1970</td>\n",
              "      <td>Explosives</td>\n",
              "    </tr>\n",
              "    <tr>\n",
              "      <th>16</th>\n",
              "      <td>Unknown</td>\n",
              "      <td>1</td>\n",
              "      <td>0</td>\n",
              "      <td>1</td>\n",
              "      <td>Sub-Saharan Africa</td>\n",
              "      <td>Soldier</td>\n",
              "      <td>Ethiopia</td>\n",
              "      <td>11</td>\n",
              "      <td>Unknown</td>\n",
              "      <td>NaN</td>\n",
              "      <td>Eritrean Liberation Front</td>\n",
              "      <td>1970</td>\n",
              "      <td>Unknown</td>\n",
              "    </tr>\n",
              "    <tr>\n",
              "      <th>17</th>\n",
              "      <td>New York</td>\n",
              "      <td>0</td>\n",
              "      <td>0</td>\n",
              "      <td>1</td>\n",
              "      <td>North America</td>\n",
              "      <td>James Madison High School</td>\n",
              "      <td>United States</td>\n",
              "      <td>12</td>\n",
              "      <td>Bombing/Explosion</td>\n",
              "      <td>Suspected motives were to protest the Vietnam ...</td>\n",
              "      <td>Black Nationalists</td>\n",
              "      <td>1970</td>\n",
              "      <td>Explosives</td>\n",
              "    </tr>\n",
              "    <tr>\n",
              "      <th>18</th>\n",
              "      <td>Puerto Rico</td>\n",
              "      <td>0</td>\n",
              "      <td>0</td>\n",
              "      <td>1</td>\n",
              "      <td>North America</td>\n",
              "      <td>General Electric factory in Rio Grande Puerto ...</td>\n",
              "      <td>United States</td>\n",
              "      <td>12</td>\n",
              "      <td>Bombing/Explosion</td>\n",
              "      <td>NaN</td>\n",
              "      <td>Strikers</td>\n",
              "      <td>1970</td>\n",
              "      <td>Explosives</td>\n",
              "    </tr>\n",
              "    <tr>\n",
              "      <th>19</th>\n",
              "      <td>Washington</td>\n",
              "      <td>0</td>\n",
              "      <td>0</td>\n",
              "      <td>1</td>\n",
              "      <td>North America</td>\n",
              "      <td>Fuson's Department Store, Seattle Washington</td>\n",
              "      <td>United States</td>\n",
              "      <td>13</td>\n",
              "      <td>Facility/Infrastructure Attack</td>\n",
              "      <td>Retaliation for the store owner who shot and k...</td>\n",
              "      <td>Black Nationalists</td>\n",
              "      <td>1970</td>\n",
              "      <td>Incendiary</td>\n",
              "    </tr>\n",
              "  </tbody>\n",
              "</table>\n",
              "</div>\n",
              "      <button class=\"colab-df-convert\" onclick=\"convertToInteractive('df-2170c973-0b1f-4caa-8d9f-0f612fcce06b')\"\n",
              "              title=\"Convert this dataframe to an interactive table.\"\n",
              "              style=\"display:none;\">\n",
              "        \n",
              "  <svg xmlns=\"http://www.w3.org/2000/svg\" height=\"24px\"viewBox=\"0 0 24 24\"\n",
              "       width=\"24px\">\n",
              "    <path d=\"M0 0h24v24H0V0z\" fill=\"none\"/>\n",
              "    <path d=\"M18.56 5.44l.94 2.06.94-2.06 2.06-.94-2.06-.94-.94-2.06-.94 2.06-2.06.94zm-11 1L8.5 8.5l.94-2.06 2.06-.94-2.06-.94L8.5 2.5l-.94 2.06-2.06.94zm10 10l.94 2.06.94-2.06 2.06-.94-2.06-.94-.94-2.06-.94 2.06-2.06.94z\"/><path d=\"M17.41 7.96l-1.37-1.37c-.4-.4-.92-.59-1.43-.59-.52 0-1.04.2-1.43.59L10.3 9.45l-7.72 7.72c-.78.78-.78 2.05 0 2.83L4 21.41c.39.39.9.59 1.41.59.51 0 1.02-.2 1.41-.59l7.78-7.78 2.81-2.81c.8-.78.8-2.07 0-2.86zM5.41 20L4 18.59l7.72-7.72 1.47 1.35L5.41 20z\"/>\n",
              "  </svg>\n",
              "      </button>\n",
              "      \n",
              "  <style>\n",
              "    .colab-df-container {\n",
              "      display:flex;\n",
              "      flex-wrap:wrap;\n",
              "      gap: 12px;\n",
              "    }\n",
              "\n",
              "    .colab-df-convert {\n",
              "      background-color: #E8F0FE;\n",
              "      border: none;\n",
              "      border-radius: 50%;\n",
              "      cursor: pointer;\n",
              "      display: none;\n",
              "      fill: #1967D2;\n",
              "      height: 32px;\n",
              "      padding: 0 0 0 0;\n",
              "      width: 32px;\n",
              "    }\n",
              "\n",
              "    .colab-df-convert:hover {\n",
              "      background-color: #E2EBFA;\n",
              "      box-shadow: 0px 1px 2px rgba(60, 64, 67, 0.3), 0px 1px 3px 1px rgba(60, 64, 67, 0.15);\n",
              "      fill: #174EA6;\n",
              "    }\n",
              "\n",
              "    [theme=dark] .colab-df-convert {\n",
              "      background-color: #3B4455;\n",
              "      fill: #D2E3FC;\n",
              "    }\n",
              "\n",
              "    [theme=dark] .colab-df-convert:hover {\n",
              "      background-color: #434B5C;\n",
              "      box-shadow: 0px 1px 3px 1px rgba(0, 0, 0, 0.15);\n",
              "      filter: drop-shadow(0px 1px 2px rgba(0, 0, 0, 0.3));\n",
              "      fill: #FFFFFF;\n",
              "    }\n",
              "  </style>\n",
              "\n",
              "      <script>\n",
              "        const buttonEl =\n",
              "          document.querySelector('#df-2170c973-0b1f-4caa-8d9f-0f612fcce06b button.colab-df-convert');\n",
              "        buttonEl.style.display =\n",
              "          google.colab.kernel.accessAllowed ? 'block' : 'none';\n",
              "\n",
              "        async function convertToInteractive(key) {\n",
              "          const element = document.querySelector('#df-2170c973-0b1f-4caa-8d9f-0f612fcce06b');\n",
              "          const dataTable =\n",
              "            await google.colab.kernel.invokeFunction('convertToInteractive',\n",
              "                                                     [key], {});\n",
              "          if (!dataTable) return;\n",
              "\n",
              "          const docLinkHtml = 'Like what you see? Visit the ' +\n",
              "            '<a target=\"_blank\" href=https://colab.research.google.com/notebooks/data_table.ipynb>data table notebook</a>'\n",
              "            + ' to learn more about interactive tables.';\n",
              "          element.innerHTML = '';\n",
              "          dataTable['output_type'] = 'display_data';\n",
              "          await google.colab.output.renderOutput(dataTable, element);\n",
              "          const docLink = document.createElement('div');\n",
              "          docLink.innerHTML = docLinkHtml;\n",
              "          element.appendChild(docLink);\n",
              "        }\n",
              "      </script>\n",
              "    </div>\n",
              "  </div>\n",
              "  "
            ]
          },
          "metadata": {},
          "execution_count": 19
        }
      ],
      "source": [
        "GT_df.head(20)"
      ]
    },
    {
      "cell_type": "markdown",
      "metadata": {
        "id": "FNpAYZcS5LDi"
      },
      "source": [
        "ANALYSIS\n",
        "\n",
        "---\n",
        "\n"
      ]
    },
    {
      "cell_type": "markdown",
      "metadata": {
        "id": "jDHgHmkqN8kB"
      },
      "source": [
        "1- Most Attack Type\n",
        "\n",
        "\n",
        "\n",
        "\n",
        "\n",
        "\n"
      ]
    },
    {
      "cell_type": "code",
      "execution_count": 20,
      "metadata": {
        "colab": {
          "base_uri": "https://localhost:8080/"
        },
        "id": "cpvsNrvJ4uXC",
        "outputId": "e496b173-e604-4415-ad26-a16cad9dfb5f"
      },
      "outputs": [
        {
          "output_type": "execute_result",
          "data": {
            "text/plain": [
              "Bombing/Explosion                      88255\n",
              "Armed Assault                          42669\n",
              "Assassination                          19312\n",
              "Hostage Taking (Kidnapping)            11158\n",
              "Facility/Infrastructure Attack         10356\n",
              "Unknown                                 7276\n",
              "Unarmed Assault                         1015\n",
              "Hostage Taking (Barricade Incident)      991\n",
              "Hijacking                                659\n",
              "Name: Attacktype, dtype: int64"
            ]
          },
          "metadata": {},
          "execution_count": 20
        }
      ],
      "source": [
        "GT_df['Attacktype'].value_counts()"
      ]
    },
    {
      "cell_type": "code",
      "execution_count": 98,
      "metadata": {
        "colab": {
          "base_uri": "https://localhost:8080/",
          "height": 769
        },
        "id": "wrCwKl076aKH",
        "outputId": "f5622179-2c66-43ab-9f9f-1610d8e82fec"
      },
      "outputs": [
        {
          "output_type": "display_data",
          "data": {
            "text/plain": [
              "<Figure size 1440x720 with 1 Axes>"
            ],
            "image/png": "[encoded data removed]"
          },
          "metadata": {
            "needs_background": "light"
          }
        }
      ],
      "source": [
        "#Top Attack Type\n",
        "plt.figure(figsize=(20,10))\n",
        "sns.barplot(GT_df['Attacktype'].value_counts().head().index, GT_df['Attacktype'].value_counts().head().values,palette='icefire')\n",
        "plt.title('Top Most Attack types',fontsize=20)\n",
        "plt.xlabel('Attacktype',fontsize=20)\n",
        "plt.ylabel('Number Attack',fontsize=20)\n",
        "plt.xticks(rotation=90)\n",
        "plt.show()\n"
      ]
    },
    {
      "cell_type": "markdown",
      "metadata": {
        "id": "6ALrbPslOVGF"
      },
      "source": [
        "\n",
        "*   More than 8000 attack by Bombing/Explosion.\n",
        "*   More than 4000 attack by Armed Assault.\n",
        "\n",
        "\n"
      ]
    },
    {
      "cell_type": "markdown",
      "metadata": {
        "id": "-yc9A3t9OWpj"
      },
      "source": [
        "2- Most Weapon Use"
      ]
    },
    {
      "cell_type": "code",
      "execution_count": 23,
      "metadata": {
        "colab": {
          "base_uri": "https://localhost:8080/"
        },
        "id": "aalCzAPv99y5",
        "outputId": "2977526a-c34e-4287-baa1-2c41389b2049"
      },
      "outputs": [
        {
          "output_type": "execute_result",
          "data": {
            "text/plain": [
              "Explosives                                                                     92426\n",
              "Firearms                                                                       58524\n",
              "Unknown                                                                        15157\n",
              "Incendiary                                                                     11135\n",
              "Melee                                                                           3655\n",
              "Chemical                                                                         321\n",
              "Sabotage Equipment                                                               141\n",
              "Vehicle (not to include vehicle-borne explosives, i.e., car or truck bombs)      136\n",
              "Other                                                                            114\n",
              "Biological                                                                        35\n",
              "Fake Weapons                                                                      33\n",
              "Radiological                                                                      14\n",
              "Name: Weapon_Type, dtype: int64"
            ]
          },
          "metadata": {},
          "execution_count": 23
        }
      ],
      "source": [
        "GT_df['Weapon_Type'].value_counts()"
      ]
    },
    {
      "cell_type": "markdown",
      "metadata": {
        "id": "LA2J1Zsz7dxM"
      },
      "source": [
        "Most Used Weapon"
      ]
    },
    {
      "cell_type": "code",
      "execution_count": 101,
      "metadata": {
        "colab": {
          "base_uri": "https://localhost:8080/",
          "height": 654
        },
        "id": "2snw3K_R7Ykb",
        "outputId": "a1abfafd-e132-4a16-e564-56d247c6732a"
      },
      "outputs": [
        {
          "output_type": "execute_result",
          "data": {
            "text/plain": [
              "Text(0, 0.5, 'Number of times')"
            ]
          },
          "metadata": {},
          "execution_count": 101
        },
        {
          "output_type": "display_data",
          "data": {
            "text/plain": [
              "<Figure size 1440x720 with 1 Axes>"
            ],
            "image/png": "[encoded data removed]"
          },
          "metadata": {
            "needs_background": "light"
          }
        }
      ],
      "source": [
        "#Top 5 weapon used\n",
        "plt.figure(figsize=(20,10))\n",
        "sns.barplot(GT_df['Weapon_Type'].value_counts().head().index, GT_df['Weapon_Type'].value_counts().head().values,palette='icefire')\n",
        "plt.title('Top 5 Most Used Weapon types',fontsize=20)\n",
        "plt.xlabel('Weapon_Type',fontsize=20)\n",
        "plt.ylabel('Number of times',fontsize=20)\n"
      ]
    },
    {
      "cell_type": "markdown",
      "metadata": {
        "id": "eyCu190PCjTW"
      },
      "source": [
        "\n",
        "\n",
        "*   More Than 8000 times Explosive used.\n",
        "*   Near About 6000 times Firearms used."
      ]
    },
    {
      "cell_type": "markdown",
      "metadata": {
        "id": "lVn0MNBzCj0G"
      },
      "source": [
        "3-TOP MOST ATTACK TARGET\n",
        "\n"
      ]
    },
    {
      "cell_type": "code",
      "execution_count": 27,
      "metadata": {
        "colab": {
          "base_uri": "https://localhost:8080/"
        },
        "id": "ZQpWSVNMAMWi",
        "outputId": "3a5171a3-d3cf-427d-f961-390f159793fb"
      },
      "outputs": [
        {
          "output_type": "execute_result",
          "data": {
            "text/plain": [
              "Civilians                  6461\n",
              "Unknown                    5918\n",
              "Soldiers                   3157\n",
              "Patrol                     2942\n",
              "Checkpoint                 2905\n",
              "                           ... \n",
              "Manager Sanat Raj             1\n",
              "Military/ Police patrol       1\n",
              "Thor 67 Outpost               1\n",
              "Employee's Vehicle            1\n",
              "Hmeymim Air Base              1\n",
              "Name: TARGET, Length: 86006, dtype: int64"
            ]
          },
          "metadata": {},
          "execution_count": 27
        }
      ],
      "source": [
        "GT_df['TARGET'].value_counts()"
      ]
    },
    {
      "cell_type": "code",
      "source": [
        "#Top 10 most Attack Targets\n",
        "plt.figure(figsize=(15,7))\n",
        "sns.barplot(GT_df['TARGET'].value_counts().head(10).index, GT_df['TARGET'].value_counts().head(10).values,palette='flare')\n",
        "plt.title('Top 10 Most Target',fontsize=20)\n",
        "plt.xlabel('TARGET',fontsize=20)\n",
        "plt.ylabel('Number of Attacks',fontsize=20)\n",
        "plt.xticks(rotation=45)\n",
        "plt.show()"
      ],
      "metadata": {
        "colab": {
          "base_uri": "https://localhost:8080/",
          "height": 513
        },
        "id": "sZxbHwNwlZ5v",
        "outputId": "8ebeb6bc-5edf-48e5-f185-2370c6ecb40c"
      },
      "execution_count": 100,
      "outputs": [
        {
          "output_type": "display_data",
          "data": {
            "text/plain": [
              "<Figure size 1080x504 with 1 Axes>"
            ],
            "image/png": "[encoded data removed]"
          },
          "metadata": {
            "needs_background": "light"
          }
        }
      ]
    },
    {
      "cell_type": "markdown",
      "source": [
        "\n",
        "\n",
        "*   More than 6000 Attacks on Civilians.\n",
        "*   Approx. 3000 Attacks on Soldiers and Patrol."
      ],
      "metadata": {
        "id": "SH9TagGHnfJh"
      }
    },
    {
      "cell_type": "markdown",
      "source": [
        "4-Top Most Country Affected"
      ],
      "metadata": {
        "id": "PQyOV4wDnfmS"
      }
    },
    {
      "cell_type": "code",
      "source": [
        "GT_df.Country.value_counts()[:15]"
      ],
      "metadata": {
        "colab": {
          "base_uri": "https://localhost:8080/"
        },
        "id": "fbzhmT8ZnKpH",
        "outputId": "790f4b3f-d4d4-42a1-c3de-cd5241145b58"
      },
      "execution_count": 37,
      "outputs": [
        {
          "output_type": "execute_result",
          "data": {
            "text/plain": [
              "Iraq              24636\n",
              "Pakistan          14368\n",
              "Afghanistan       12731\n",
              "India             11960\n",
              "Colombia           8306\n",
              "Philippines        6908\n",
              "Peru               6096\n",
              "El Salvador        5320\n",
              "United Kingdom     5235\n",
              "Turkey             4292\n",
              "Somalia            4142\n",
              "Nigeria            3907\n",
              "Thailand           3849\n",
              "Yemen              3347\n",
              "Spain              3249\n",
              "Name: Country, dtype: int64"
            ]
          },
          "metadata": {},
          "execution_count": 37
        }
      ]
    },
    {
      "cell_type": "code",
      "source": [
        "#Top 15 most Country Affected\n",
        "plt.figure(figsize=(15,7))\n",
        "sns.barplot(GT_df['Country'].value_counts().head(15).index, GT_df['Country'].value_counts().head(15).values,palette='dark')\n",
        "plt.title('Top 15 Country Affected',fontsize=20)\n",
        "plt.xlabel('Country',fontsize=20)\n",
        "plt.ylabel('Number of Attacks',fontsize=20)\n",
        "plt.xticks(rotation=45)\n",
        "plt.show()"
      ],
      "metadata": {
        "colab": {
          "base_uri": "https://localhost:8080/",
          "height": 526
        },
        "id": "GpgIQqgpn9Zc",
        "outputId": "6f30256f-1391-4d4a-e1c7-96e5092d1807"
      },
      "execution_count": 40,
      "outputs": [
        {
          "output_type": "display_data",
          "data": {
            "text/plain": [
              "<Figure size 1080x504 with 1 Axes>"
            ],
            "image/png": "[encoded data removed]"
          },
          "metadata": {
            "needs_background": "light"
          }
        }
      ]
    },
    {
      "cell_type": "markdown",
      "source": [
        "\n",
        "\n",
        "*   Top Most Affected country is Iraq.Where Approx. 25000 times attack by Terrorist. Pakistan is at IInd and IIIrd Afganistan.\n",
        "\n",
        "\n",
        "\n"
      ],
      "metadata": {
        "id": "0DFCuKjmpXyX"
      }
    },
    {
      "cell_type": "markdown",
      "source": [
        "5-No. of Death year on **year**"
      ],
      "metadata": {
        "id": "lHMklgb6pYdD"
      }
    },
    {
      "cell_type": "code",
      "source": [
        "GT_df.groupby(['YEAR'])['KILLED'].sum()"
      ],
      "metadata": {
        "colab": {
          "base_uri": "https://localhost:8080/"
        },
        "id": "pE1Qrka_ovam",
        "outputId": "96e492b1-12b7-4ef3-fe63-cf7866ed1866"
      },
      "execution_count": 42,
      "outputs": [
        {
          "output_type": "execute_result",
          "data": {
            "text/plain": [
              "YEAR\n",
              "1970      174\n",
              "1971      173\n",
              "1972      566\n",
              "1973      370\n",
              "1974      539\n",
              "1975      617\n",
              "1976      674\n",
              "1977      456\n",
              "1978     1459\n",
              "1979     2100\n",
              "1980     4400\n",
              "1981     4851\n",
              "1982     5136\n",
              "1983     9444\n",
              "1984    10450\n",
              "1985     7094\n",
              "1986     4976\n",
              "1987     6482\n",
              "1988     7208\n",
              "1989     8152\n",
              "1990     7148\n",
              "1991     8429\n",
              "1992     9742\n",
              "1994     7690\n",
              "1995     6103\n",
              "1996     6966\n",
              "1997    10924\n",
              "1998     4688\n",
              "1999     3393\n",
              "2000     4403\n",
              "2001     7729\n",
              "2002     4805\n",
              "2003     3317\n",
              "2004     5743\n",
              "2005     6331\n",
              "2006     9380\n",
              "2007    12824\n",
              "2008     9157\n",
              "2009     9273\n",
              "2010     7827\n",
              "2011     8246\n",
              "2012    15497\n",
              "2013    22273\n",
              "2014    44490\n",
              "2015    38853\n",
              "2016    34871\n",
              "2017    26445\n",
              "Name: KILLED, dtype: int64"
            ]
          },
          "metadata": {},
          "execution_count": 42
        }
      ]
    },
    {
      "cell_type": "code",
      "source": [
        "# NO.of Deaths Year on Year\n",
        "plt.figure(figsize = (15,7))\n",
        "GT_df.groupby(['YEAR'])['KILLED'].sum().plot(kind='bar',colormap='bone')\n",
        "plt.title('Number of Deaths Year on Year',fontsize=25)\n",
        "plt.xlabel('YEAR',fontsize=25)\n",
        "plt.ylabel('Number of Deaths',fontsize=25)\n",
        "plt.xticks(rotation=90)\n",
        "plt.show()"
      ],
      "metadata": {
        "colab": {
          "base_uri": "https://localhost:8080/",
          "height": 497
        },
        "id": "NNt0JYZYqE7H",
        "outputId": "165abdb3-aefb-47df-df43-534faea624cf"
      },
      "execution_count": 50,
      "outputs": [
        {
          "output_type": "display_data",
          "data": {
            "text/plain": [
              "<Figure size 1080x504 with 1 Axes>"
            ],
            "image/png": "[encoded data removed]"
          },
          "metadata": {
            "needs_background": "light"
          }
        }
      ]
    },
    {
      "cell_type": "markdown",
      "source": [
        "\n",
        "\n",
        "*   More than 40000 deaths in 2014.\n",
        "  \n",
        "\n"
      ],
      "metadata": {
        "id": "UoQh8FB0sA6Z"
      }
    },
    {
      "cell_type": "markdown",
      "source": [
        "6- Top Most Activated errorist Organization "
      ],
      "metadata": {
        "id": "mKmhf2CosDC8"
      }
    },
    {
      "cell_type": "code",
      "source": [
        "GT_df['Group'].value_counts()"
      ],
      "metadata": {
        "colab": {
          "base_uri": "https://localhost:8080/"
        },
        "id": "ZaeMG-xUrNpN",
        "outputId": "9865e400-9e2e-455a-cd00-1591f5e2fd7f"
      },
      "execution_count": 59,
      "outputs": [
        {
          "output_type": "execute_result",
          "data": {
            "text/plain": [
              "Unknown                                             82782\n",
              "Taliban                                              7478\n",
              "Islamic State of Iraq and the Levant (ISIL)          5613\n",
              "Shining Path (SL)                                    4555\n",
              "Farabundo Marti National Liberation Front (FMLN)     3351\n",
              "                                                    ...  \n",
              "Ansar Sarallah                                          1\n",
              "Sword of Islam                                          1\n",
              "Support of Ocalan-The Hawks of Thrace                   1\n",
              "Arab Revolutionary Front                                1\n",
              "MANO-D                                                  1\n",
              "Name: Group, Length: 3537, dtype: int64"
            ]
          },
          "metadata": {},
          "execution_count": 59
        }
      ]
    },
    {
      "cell_type": "code",
      "source": [
        "#Top Most Terrorist organization\n",
        "plt.figure(figsize=(15,7))\n",
        "sns.barplot(GT_df['Group'].value_counts().head(10).index, GT_df['Group'].value_counts().head(10).values,palette='rocket')\n",
        "plt.title('Top most Activated Terror Organization',fontsize=20)\n",
        "plt.xlabel('Terror Oganization',fontsize=20)\n",
        "plt.ylabel('Number of Attacks',fontsize=20)\n",
        "plt.xticks(rotation=90)\n",
        "plt.show()"
      ],
      "metadata": {
        "colab": {
          "base_uri": "https://localhost:8080/",
          "height": 708
        },
        "id": "9CdPPUoXse8v",
        "outputId": "6b80044d-5555-4eb8-c0fe-38215df22770"
      },
      "execution_count": 67,
      "outputs": [
        {
          "output_type": "display_data",
          "data": {
            "text/plain": [
              "<Figure size 1080x504 with 1 Axes>"
            ],
            "image/png": "[encoded data removed]"
          },
          "metadata": {
            "needs_background": "light"
          }
        }
      ]
    },
    {
      "cell_type": "markdown",
      "source": [
        "\n",
        "\n",
        "*   Taliban is the IInd most Active Terror Organization. \n",
        "\n"
      ],
      "metadata": {
        "id": "nCuTzxWBu-V0"
      }
    },
    {
      "cell_type": "markdown",
      "source": [
        "7-No. of Attacks Year on Year"
      ],
      "metadata": {
        "id": "pXLoWkRYvCQX"
      }
    },
    {
      "cell_type": "code",
      "source": [
        "A_Year=GT_df['YEAR'].unique()\n",
        "print(A_Year)"
      ],
      "metadata": {
        "colab": {
          "base_uri": "https://localhost:8080/"
        },
        "id": "mS6mVL9BtOEN",
        "outputId": "2ab15a79-a1fd-4084-9ad3-86a41b15a0a0"
      },
      "execution_count": 77,
      "outputs": [
        {
          "output_type": "stream",
          "name": "stdout",
          "text": [
            "[1970 1971 1972 1973 1974 1975 1976 1977 1978 1979 1980 1981 1986 1982\n",
            " 1983 1984 1985 1987 1988 1989 1990 1991 1992 1994 1995 1996 1997 1998\n",
            " 1999 2000 2001 2002 2003 2004 2005 2006 2007 2008 2009 2010 2011 2012\n",
            " 2013 2014 2015 2016 2017]\n"
          ]
        }
      ]
    },
    {
      "cell_type": "code",
      "source": [
        "B_Year=GT_df['YEAR'].value_counts(dropna = False).sort_index()\n",
        "print(B_Year)"
      ],
      "metadata": {
        "colab": {
          "base_uri": "https://localhost:8080/"
        },
        "id": "Kt5WOFORxVqu",
        "outputId": "dacfe116-1d70-4701-b9bc-77fc8a8702c7"
      },
      "execution_count": 85,
      "outputs": [
        {
          "output_type": "stream",
          "name": "stdout",
          "text": [
            "1970      651\n",
            "1971      471\n",
            "1972      568\n",
            "1973      473\n",
            "1974      581\n",
            "1975      740\n",
            "1976      923\n",
            "1977     1319\n",
            "1978     1526\n",
            "1979     2662\n",
            "1980     2662\n",
            "1981     2586\n",
            "1982     2544\n",
            "1983     2870\n",
            "1984     3495\n",
            "1985     2915\n",
            "1986     2860\n",
            "1987     3183\n",
            "1988     3721\n",
            "1989     4324\n",
            "1990     3887\n",
            "1991     4683\n",
            "1992     5071\n",
            "1994     3456\n",
            "1995     3081\n",
            "1996     3058\n",
            "1997     3197\n",
            "1998      934\n",
            "1999     1395\n",
            "2000     1814\n",
            "2001     1906\n",
            "2002     1333\n",
            "2003     1278\n",
            "2004     1166\n",
            "2005     2017\n",
            "2006     2758\n",
            "2007     3242\n",
            "2008     4805\n",
            "2009     4721\n",
            "2010     4826\n",
            "2011     5076\n",
            "2012     8522\n",
            "2013    12036\n",
            "2014    16903\n",
            "2015    14965\n",
            "2016    13587\n",
            "2017    10900\n",
            "Name: YEAR, dtype: int64\n"
          ]
        }
      ]
    },
    {
      "cell_type": "code",
      "source": [
        "#No. of Attacks Year on Year\n",
        "plt.figure(figsize = (12,7))\n",
        "sns.barplot(x = A_Year,\n",
        "           y = B_Year,\n",
        "           palette = 'dark')\n",
        "plt.xticks(rotation = 90)\n",
        "plt.xlabel('Attack Year')\n",
        "plt.ylabel('Number of Attacks Year on Year')\n",
        "plt.title('Attack Years')\n",
        "plt.show()"
      ],
      "metadata": {
        "colab": {
          "base_uri": "https://localhost:8080/",
          "height": 474
        },
        "id": "efD5X1c4yQjW",
        "outputId": "465951b9-41d9-430d-b52d-d76c65ab5e7c"
      },
      "execution_count": 87,
      "outputs": [
        {
          "output_type": "display_data",
          "data": {
            "text/plain": [
              "<Figure size 864x504 with 1 Axes>"
            ],
            "image/png": "[encoded data removed]"
          },
          "metadata": {
            "needs_background": "light"
          }
        }
      ]
    },
    {
      "cell_type": "markdown",
      "source": [
        "\n",
        "\n",
        "*   More than 16000 Attacks in 2014.As per Data most Terrorist activities happen in this year. After 2014 the trend lookinf cool off."
      ],
      "metadata": {
        "id": "evAz58HY6w0V"
      }
    },
    {
      "cell_type": "markdown",
      "source": [
        "**Conclusion**\n",
        "\n",
        "After performing the EDa we get the following insights from the data: *italicized text*\n",
        "\n",
        " *   The most common attack type was Bombing/Explosion.\n",
        " *   Explosives have been consistently the most popular weapon of choice for terrorists.\n",
        " *   Private Citizens and Property were attacked most followed by Military, Police,Government and so on.\n",
        "\n",
        "*   Iraq was the country which was most affected by terror attacks and had maximum number of killed and wounded people.\n",
        "\n",
        "\n",
        "*   In the last decade 2014 had most number of terror attacks. That was around 16000 attacks during this year.\n",
        "\n",
        "\n",
        "\n",
        "\n",
        "\n",
        "\n",
        "\n",
        "\n",
        "\n",
        "\n",
        "\n",
        "\n",
        "\n",
        "\n",
        "\n"
      ],
      "metadata": {
        "id": "d4HvMwcQ7Wx1"
      }
    },
    {
      "cell_type": "code",
      "source": [],
      "metadata": {
        "id": "7UWwS1ONy2iX"
      },
      "execution_count": null,
      "outputs": []
    }
  ],
  "metadata": {
    "colab": {
      "collapsed_sections": [],
      "provenance": [],
      "include_colab_link": true
    },
    "kernelspec": {
      "display_name": "Python 3",
      "language": "python",
      "name": "python3"
    },
    "language_info": {
      "codemirror_mode": {
        "name": "ipython",
        "version": 3
      },
      "file_extension": ".py",
      "mimetype": "text/x-python",
      "name": "python",
      "nbconvert_exporter": "python",
      "pygments_lexer": "ipython3",
      "version": "3.6.6"
    }
  },
  "nbformat": 4,
  "nbformat_minor": 0
}